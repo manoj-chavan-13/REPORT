{
  "cells": [
    {
      "cell_type": "markdown",
      "source": [
        "#Question\n",
        "#find SVD for the matrix"
      ],
      "metadata": {
        "id": "AnrdYrEa6ud-"
      }
    },
    {
      "cell_type": "code",
      "execution_count": null,
      "metadata": {
        "id": "JCsoyTix6Ax8"
      },
      "outputs": [],
      "source": [
        "import numpy as np\n",
        "import scipy as sp\n",
        "import sympy as sy\n",
        "import matplotlib.pyplot as plt\n",
        "plt.style.use('ggplot')"
      ]
    },
    {
      "cell_type": "code",
      "execution_count": null,
      "metadata": {
        "id": "Mnybv8DH6Ax9"
      },
      "outputs": [],
      "source": [
        "np.set_printoptions(precision=3)\n",
        "np.set_printoptions(suppress=True)"
      ]
    },
    {
      "cell_type": "markdown",
      "metadata": {
        "id": "DqkhtFyc6Ax-"
      },
      "source": [
        "# <font face=\"gotham\" color=\"purple\"> The Singular Values </font>"
      ]
    },
    {
      "cell_type": "markdown",
      "metadata": {
        "id": "Kl8UCrV-6Ax_"
      },
      "source": [
        "We have discussed what _Spectral Decomposition_ which can decompose any symmetric matrices unconditionally into three special matrices.However only square matrices have eigenvalues and vectors, however we want to extend a similar concept for any $m \\times n$ matrices.\n",
        "\n",
        "If $A$ is an $m \\times n$ matrix, then $A^TA$ and $AA^T$ are both symmetric and orthogonally diagonalizable."
      ]
    },
    {
      "cell_type": "code",
      "execution_count": null,
      "metadata": {
        "id": "TsCk7X3w6AyA"
      },
      "outputs": [],
      "source": [
        "A = np.array([[4, 1],\n",
        "              [1,  0],\n",
        "              [3,  2],\n",
        "              [2,  4],\n",
        "              [-1, 0]])"
      ]
    },
    {
      "cell_type": "markdown",
      "metadata": {
        "id": "E4NCYkz36AyA"
      },
      "source": [
        "Compute eigenvalues and eigenvectors of $A^TA$."
      ]
    },
    {
      "cell_type": "code",
      "execution_count": null,
      "metadata": {
        "id": "E5sm0-Gk6AyB"
      },
      "outputs": [],
      "source": [
        "ATA = A.T@A; ATA"
      ]
    },
    {
      "cell_type": "markdown",
      "source": [
        "array([[31, 18],\n",
        "       [18, 21]])"
      ],
      "metadata": {
        "id": "IRkLReEZPCdL"
      }
    },
    {
      "cell_type": "code",
      "source": [],
      "metadata": {
        "id": "65HtkyQ6QLBP"
      },
      "execution_count": null,
      "outputs": []
    },
    {
      "cell_type": "code",
      "execution_count": null,
      "metadata": {
        "id": "8C7LEDgZ6AyB"
      },
      "outputs": [],
      "source": [
        "D1, P1 = np.linalg.eig(ATA)"
      ]
    },
    {
      "cell_type": "markdown",
      "metadata": {
        "id": "wb_LRjGr6AyB"
      },
      "source": [
        "Check if $P$ is an orthonormal matrix."
      ]
    },
    {
      "cell_type": "code",
      "execution_count": null,
      "metadata": {
        "colab": {
          "base_uri": "https://localhost:8080/"
        },
        "id": "uPYtuoPp6AyC",
        "outputId": "9073263f-59f0-4215-aa89-4b897842e58e"
      },
      "outputs": [
        {
          "output_type": "execute_result",
          "data": {
            "text/plain": [
              "array([[1., 0.],\n",
              "       [0., 1.]])"
            ]
          },
          "metadata": {},
          "execution_count": 7
        }
      ],
      "source": [
        "P1@P1.T"
      ]
    },
    {
      "cell_type": "code",
      "execution_count": null,
      "metadata": {
        "colab": {
          "base_uri": "https://localhost:8080/"
        },
        "id": "2WMLVlDz6AyC",
        "outputId": "da893f31-9112-4036-eb2a-94db1516df51"
      },
      "outputs": [
        {
          "output_type": "execute_result",
          "data": {
            "text/plain": [
              "array([43.541,  0.459])"
            ]
          },
          "metadata": {},
          "execution_count": 8
        }
      ],
      "source": [
        "D1"
      ]
    },
    {
      "cell_type": "markdown",
      "metadata": {
        "id": "VuOJhWnJ6AyC"
      },
      "source": [
        "The square roots of eigenvalues of $A^TA$ are called _singular values_  of $A$, denoted by $\\sigma_1, ..., \\sigma_n$ in decreasing order.\n",
        "\n",
        "We can also show that singular values of $A$ are the lengths of vectors $A\\mathbf{v}_1,..., A\\mathbf{v}_n$, where $\\mathbf{v}_i$ is the eigenvalue of $A^TA$."
      ]
    },
    {
      "cell_type": "markdown",
      "metadata": {
        "id": "XK-R2UVA6AyD"
      },
      "source": [
        "The length of $A\\mathbf{v}_i$ is $\\|A\\mathbf{v}_i\\|$\n",
        "\n",
        "$$\n",
        "\\|A\\mathbf{v}_i\\| = \\sqrt{(A\\mathbf{v}_i)^TA\\mathbf{v}_i} = \\sqrt{\\mathbf{v}_i^TA^T A\\mathbf{v}_i}=\\sqrt{\\mathbf{v}_i^T(\\lambda_i\\mathbf{v}_i)} = \\sqrt{\\lambda_i}=\\sigma_1\n",
        "$$\n",
        "\n",
        "where $\\sqrt{\\mathbf{v}_i^T\\mathbf{v}_i} = 1$ and $\\lambda_i$'s are eigenvalues of $A^TA$."
      ]
    },
    {
      "cell_type": "markdown",
      "metadata": {
        "id": "O_GoC7Oy6AyD"
      },
      "source": [
        " # <font face=\"gotham\" color=\"purple\"> Singular Value Decomposition</font>"
      ]
    },
    {
      "cell_type": "markdown",
      "metadata": {
        "id": "tq0hf3xe6AyD"
      },
      "source": [
        "**Singular Value Decomposition** (SVD) is probably the most important decomposition technique in the history of linear algebra, it combines all the theory we discussed, then culminate at this point."
      ]
    },
    {
      "cell_type": "markdown",
      "metadata": {
        "id": "aMIDptnf6AyD"
      },
      "source": [
        "$A$ is a $m\\times n$ matrix. However $AA^T$ and $A^TA$ are symmetric matrices,then both are orthogonally diagonalizable.\n",
        "\n",
        "$$\n",
        "AA^T = U\\Sigma\\Sigma^T U^T=(U\\Sigma V^T)(V\\Sigma U^T)\\\\\n",
        "A^TA = V\\Sigma^T \\Sigma V^T = (V\\Sigma^T U^T)(U \\Sigma V^T)\n",
        "$$\n",
        "\n",
        "where $\\Sigma\\Sigma^T$ is a diagonal matrix with all eigenvalues of $AA^T$ and $\\Sigma^T \\Sigma$ is a diagonal matrix with all eigenvalues of $VV^T$."
      ]
    },
    {
      "cell_type": "markdown",
      "metadata": {
        "id": "ycycfQ6Q6AyD"
      },
      "source": [
        "Because both $AA^T$ and $A^TA$ are symmetric, then $UU^T= U^TU=I_{m\\times m}$ and $VV^T= V^TV=I_{n\\times n}$."
      ]
    },
    {
      "cell_type": "markdown",
      "metadata": {
        "id": "CkZmBZJS6AyE"
      },
      "source": [
        "We have implicitly shown the singular value decompositions above, one of the most important concept in linear algebra.\n",
        "\n",
        "$$\n",
        "\\Large\n",
        "SVD:\\quad\n",
        "A_{m\\times n} = U_{m\\times m}\\Sigma_{m \\times n} V^T_{n \\times n}\n",
        "$$"
      ]
    },
    {
      "cell_type": "markdown",
      "metadata": {
        "id": "TB36vfl46AyE"
      },
      "source": [
        "The SVD theory guarantees that any matrix $A$, no matter its ranks or shapes, can be unconditionally decomposed into three special matrices."
      ]
    },
    {
      "cell_type": "markdown",
      "metadata": {
        "id": "eRw2NcSS6AyE"
      },
      "source": [
        "So next question: what is $\\Sigma$?\n",
        "\n",
        "It is an $m\\times n$ main diagonal matrix, with all singular values on the main diagonal. Rewrite"
      ]
    },
    {
      "cell_type": "markdown",
      "metadata": {
        "id": "Do7w_uLT6AyE"
      },
      "source": [
        "$$\n",
        "A^TA = V\\Sigma^T \\Sigma V^T = V\\Sigma^2 V^T\n",
        "$$"
      ]
    },
    {
      "cell_type": "markdown",
      "metadata": {
        "id": "weu7muqw6AyE"
      },
      "source": [
        "Post-multiply both sides by $V$\n",
        "\n",
        "$$\n",
        "A^TAV = V\\Sigma^2\n",
        "$$"
      ]
    },
    {
      "cell_type": "markdown",
      "metadata": {
        "id": "STtJ07h76AyF"
      },
      "source": [
        "This is the matrix version of $A\\mathbf{v}_i = \\lambda_i \\mathbf{v}_i$, but here the matrix of interest is $A^TA$ rather than $A$. Similarly it can be written with singular values\n",
        "\n",
        "$$\n",
        "A^TA\\mathbf{v}_i = \\sigma_i^2\\mathbf{v}_i\n",
        "$$"
      ]
    },
    {
      "cell_type": "markdown",
      "metadata": {
        "id": "__TFYVPU6AyF"
      },
      "source": [
        "Because $U$ and $V$ are not unique, we tend to standardize the solution by arranging $\\sigma_1 \\geq \\sigma_2 \\geq \\sigma_3\\geq ... \\geq\\sigma_r$."
      ]
    },
    {
      "cell_type": "markdown",
      "metadata": {
        "id": "_7nUuCXc6AyF"
      },
      "source": [
        "Why we only arrange $r$ singular values? Because it is the rank of $A$, so is the rank of $A^TA$. Explicitly $\\Sigma$ looks like\n",
        "\n",
        "\n",
        "$$\\Sigma =\\left[\\begin{array}{cccccc}\n",
        "\\sqrt{\\lambda_{1}} & & & & &\\\\\n",
        "& \\sqrt{\\lambda_{2}} & & & &\\\\\n",
        "& & \\ddots & & &\\\\\n",
        "& & & \\sqrt{\\lambda}_{\\mathrm{r}} & &\\\\\n",
        "& & & & \\ddots &\\\\\n",
        "& & & & & 0\n",
        "\\end{array}\\right]\n",
        "=\\left[\\begin{array}{cccccc}\n",
        "\\sigma_1 & & & & &\\\\\n",
        "& \\sigma_2 & & & &\\\\\n",
        "& & \\ddots & & &\\\\\n",
        "& & & \\sigma_r & &\\\\\n",
        "& & & & \\ddots &\\\\\n",
        "& & & & & 0\n",
        "\\end{array}\\right]\n",
        "$$"
      ]
    },
    {
      "cell_type": "markdown",
      "metadata": {
        "id": "SxBDf6nu6AyF"
      },
      "source": [
        "We can do the same for $AA^T$ and get\n",
        "\n",
        "$$\n",
        "AA^TU = U \\Sigma^2\n",
        "$$\n",
        "\n",
        "or\n",
        "\n",
        "$$\n",
        "AA^T\\mathbf{u}_i = \\sigma_i^2\\mathbf{u}_i\n",
        "$$"
      ]
    },
    {
      "cell_type": "markdown",
      "metadata": {
        "id": "_DUylM-S6AyF"
      },
      "source": [
        "We have shown why $A_{m\\times n} = U_{m\\times m}\\Sigma_{m \\times n} V^T_{n \\times n}$ holds."
      ]
    },
    {
      "cell_type": "markdown",
      "metadata": {
        "id": "kbkxNim-6AyF"
      },
      "source": [
        "To perfomr a SVD on $A$, we just need two equations and this is also a mannual procedure to decompose any matrix.\n",
        "\n",
        "$$\n",
        "A^TA = V\\Sigma^T \\Sigma V^T\\\\\n",
        "AV = U\\Sigma\n",
        "$$"
      ]
    },
    {
      "cell_type": "markdown",
      "metadata": {
        "id": "1YB8vjWC6AyF"
      },
      "source": [
        "Here's an example, let's say we have we have a data set $A$"
      ]
    },
    {
      "cell_type": "markdown",
      "metadata": {
        "id": "BFDzjdpt6AyG"
      },
      "source": [
        "Give it a $\\text{SVD}$ decomposition"
      ]
    },
    {
      "cell_type": "markdown",
      "metadata": {
        "id": "g8hKOBqI6AyH"
      },
      "source": [
        "Let's say we want to reduce $A_{10\\times 3}$ in to $A_{10\\times 2}$."
      ]
    },
    {
      "cell_type": "code",
      "execution_count": 5,
      "metadata": {
        "colab": {
          "base_uri": "https://localhost:8080/",
          "height": 891
        },
        "id": "R4ASfWaT6AyH",
        "outputId": "7f5c091e-badf-4875-bf7e-f9cf539132a7"
      },
      "outputs": [
        {
          "output_type": "display_data",
          "data": {
            "text/plain": [
              "<Figure size 640x480 with 1 Axes>"
            ],
            "image/png": "[encoded data removed]"
          },
          "metadata": {}
        },
        {
          "output_type": "display_data",
          "data": {
            "text/plain": [
              "<Figure size 640x480 with 1 Axes>"
            ],
            "image/png": "[encoded data removed]"
          },
          "metadata": {}
        }
      ],
      "source": [
        "import numpy as np\n",
        "import matplotlib.pyplot as plt\n",
        "\n",
        "A = np.array([[4, 1],\n",
        "              [1,  0],\n",
        "              [3,  2],\n",
        "              [2,  4],\n",
        "              [-1, 0]])\n",
        "U, S, VT = np.linalg.svd(A)\n",
        "A_reduced = np.dot(U[:, :1], np.dot(np.diag(S[:1]), VT[:1, :]))\n",
        "\n",
        "# Plot original data\n",
        "plt.scatter(A[:, 0], A[:, 1])\n",
        "plt.title(\"Original $A$\")\n",
        "plt.show()\n",
        "\n",
        "# Plot reduced data\n",
        "plt.scatter(A_reduced[:, 0], A_reduced[:, 1])\n",
        "plt.title(\"$A$ with Reduced Dimensionality\")\n",
        "plt.show()"
      ]
    },
    {
      "cell_type": "code",
      "execution_count": 3,
      "metadata": {
        "colab": {
          "base_uri": "https://localhost:8080/",
          "height": 1322
        },
        "id": "4_jgzuzK6AyH",
        "outputId": "04785d88-f149-4fdf-ac44-d400fa9302b7"
      },
      "outputs": [
        {
          "output_type": "display_data",
          "data": {
            "text/plain": [
              "<Figure size 640x480 with 1 Axes>"
            ],
            "image/png": "[encoded data removed]"
          },
          "metadata": {}
        },
        {
          "output_type": "display_data",
          "data": {
            "text/plain": [
              "<Figure size 640x480 with 1 Axes>"
            ],
            "image/png": "[encoded data removed]"
          },
          "metadata": {}
        },
        {
          "output_type": "display_data",
          "data": {
            "text/plain": [
              "<Figure size 640x480 with 1 Axes>"
            ],
            "image/png": "[encoded data removed]"
          },
          "metadata": {}
        }
      ],
      "source": [
        "import numpy as np\n",
        "import matplotlib.pyplot as plt\n",
        "\n",
        "# Generate some random data\n",
        "data = np.array([[4, 1],\n",
        "              [1,  0],\n",
        "              [3,  2],\n",
        "              [2,  4],\n",
        "              [-1, 0]])\n",
        "\n",
        "# Perform SVD on the data\n",
        "U, s, VT = np.linalg.svd(data)\n",
        "\n",
        "# Perform PCA on the data\n",
        "mean = np.mean(data, axis=0)\n",
        "data_pca = data - mean\n",
        "cov = np.cov(data_pca.T)\n",
        "eigenvalues, eigenvectors = np.linalg.eig(cov)\n",
        "\n",
        "# Plot the data\n",
        "plt.scatter(data[:, 0], data[:, 1])\n",
        "plt.title(\"Original Data\")\n",
        "plt.show()\n",
        "\n",
        "# Plot the SVD components\n",
        "plt.scatter(U[:, 0], U[:, 1])\n",
        "plt.title(\"SVD Components\")\n",
        "plt.show()\n",
        "\n",
        "# Plot the PCA components\n",
        "plt.scatter(eigenvectors[:, 0], eigenvectors[:, 1])\n",
        "plt.title(\"PCA Components\")\n",
        "plt.show()\n"
      ]
    },
    {
      "cell_type": "markdown",
      "metadata": {
        "tags": [],
        "id": "BXPozsWQ6AyN"
      },
      "source": [
        "## <font face=\"gotham\" color=\"purple\"> Reformulate SVD</font>"
      ]
    },
    {
      "cell_type": "markdown",
      "metadata": {
        "id": "OE-HOXPe6AyN"
      },
      "source": [
        "Rewrite $SVD$\n",
        "\n",
        "$$\n",
        "AV = U\\Sigma\n",
        "$$"
      ]
    },
    {
      "cell_type": "markdown",
      "metadata": {
        "id": "qwPb5rOw6AyN"
      },
      "source": [
        "vector version is\n",
        "\n",
        "$$\n",
        "A\\mathbf{v}_i = \\sigma_i \\mathbf{u}_i\n",
        "$$"
      ]
    },
    {
      "cell_type": "markdown",
      "metadata": {
        "id": "qPDT0xEP6AyN"
      },
      "source": [
        "There two implications from the equation above: $(a)$ $A$ can be decomposed into\n",
        "\n",
        "$$\n",
        "A = \\sum_{i}^r\\sigma_i\\mathbf{u}_i \\mathbf{v}_i^T\n",
        "$$\n",
        "\n",
        "$(b)$ We can compute $\\mathbf{u}_i$ by using\n",
        "\n",
        "$$\\mathbf{u}_i = \\frac{A\\mathbf{v}_i}{\\sigma_i}$$"
      ]
    }
  ],
  "metadata": {
    "kernelspec": {
      "display_name": "Python 3 (ipykernel)",
      "language": "python",
      "name": "python3"
    },
    "language_info": {
      "codemirror_mode": {
        "name": "ipython",
        "version": 3
      },
      "file_extension": ".py",
      "mimetype": "text/x-python",
      "name": "python",
      "nbconvert_exporter": "python",
      "pygments_lexer": "ipython3",
      "version": "3.12.4"
    },
    "toc": {
      "base_numbering": 1,
      "nav_menu": {},
      "number_sections": true,
      "sideBar": true,
      "skip_h1_title": false,
      "title_cell": "Table of Contents",
      "title_sidebar": "Contents",
      "toc_cell": false,
      "toc_position": {},
      "toc_section_display": true,
      "toc_window_display": true
    },
    "colab": {
      "provenance": []
    }
  },
  "nbformat": 4,
  "nbformat_minor": 0
}