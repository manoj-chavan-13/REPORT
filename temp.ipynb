{
  "cells": [
    {
      "cell_type": "markdown",
      "source": [
        "## e-singular-value-decomposition-new\n",
        "\n",
        "#Question\n",
        "#Take a suitable Matrix and find SVD for the matrix\n"
      ],
      "metadata": {
        "id": "AnrdYrEa6ud-"
      }
    },
    {
      "cell_type": "code",
      "execution_count": null,
      "metadata": {
        "id": "JCsoyTix6Ax8"
      },
      "outputs": [],
      "source": [
        "import numpy as np\n",
        "import scipy as sp\n",
        "import sympy as sy\n",
        "import matplotlib.pyplot as plt\n",
        "plt.style.use('ggplot')"
      ]
    },
    {
      "cell_type": "code",
      "execution_count": null,
      "metadata": {
        "id": "Mnybv8DH6Ax9"
      },
      "outputs": [],
      "source": [
        "np.set_printoptions(precision=3)\n",
        "np.set_printoptions(suppress=True)"
      ]
    },
    {
      "cell_type": "markdown",
      "metadata": {
        "id": "DqkhtFyc6Ax-"
      },
      "source": [
        "# <font face=\"gotham\" color=\"purple\"> The Singular Values </font>"
      ]
    },
    {
      "cell_type": "markdown",
      "metadata": {
        "id": "Kl8UCrV-6Ax_"
      },
      "source": [
        "We have discussed what _Spectral Decomposition_ which can decompose any symmetric matrices unconditionally into three special matrices.However only square matrices have eigenvalues and vectors, however we want to extend a similar concept for any $m \\times n$ matrices.\n",
        "\n",
        "If $A$ is an $m \\times n$ matrix, then $A^TA$ and $AA^T$ are both symmetric and orthogonally diagonalizable."
      ]
    },
    {
      "cell_type": "code",
      "execution_count": null,
      "metadata": {
        "id": "TsCk7X3w6AyA"
      },
      "outputs": [],
      "source": [
        "A = np.array([[4, 1],\n",
        "              [1,  0],\n",
        "              [3,  2],\n",
        "              [2,  4],\n",
        "              [-1, 0]])"
      ]
    },
    {
      "cell_type": "markdown",
      "metadata": {
        "id": "E4NCYkz36AyA"
      },
      "source": [
        "Compute eigenvalues and eigenvectors of $A^TA$."
      ]
    },
    {
      "cell_type": "code",
      "execution_count": null,
      "metadata": {
        "id": "E5sm0-Gk6AyB"
      },
      "outputs": [],
      "source": [
        "ATA = A.T@A; ATA"
      ]
    },
    {
      "cell_type": "markdown",
      "source": [
        "array([[31, 18],\n",
        "       [18, 21]])"
      ],
      "metadata": {
        "id": "IRkLReEZPCdL"
      }
    },
    {
      "cell_type": "code",
      "source": [],
      "metadata": {
        "id": "65HtkyQ6QLBP"
      },
      "execution_count": null,
      "outputs": []
    },
    {
      "cell_type": "code",
      "execution_count": null,
      "metadata": {
        "id": "8C7LEDgZ6AyB"
      },
      "outputs": [],
      "source": [
        "D1, P1 = np.linalg.eig(ATA)"
      ]
    },
    {
      "cell_type": "markdown",
      "metadata": {
        "id": "wb_LRjGr6AyB"
      },
      "source": [
        "Check if $P$ is an orthonormal matrix."
      ]
    },
    {
      "cell_type": "code",
      "execution_count": null,
      "metadata": {
        "colab": {
          "base_uri": "https://localhost:8080/"
        },
        "id": "uPYtuoPp6AyC",
        "outputId": "9073263f-59f0-4215-aa89-4b897842e58e"
      },
      "outputs": [
        {
          "output_type": "execute_result",
          "data": {
            "text/plain": [
              "array([[1., 0.],\n",
              "       [0., 1.]])"
            ]
          },
          "metadata": {},
          "execution_count": 7
        }
      ],
      "source": [
        "P1@P1.T"
      ]
    },
    {
      "cell_type": "code",
      "execution_count": null,
      "metadata": {
        "colab": {
          "base_uri": "https://localhost:8080/"
        },
        "id": "2WMLVlDz6AyC",
        "outputId": "da893f31-9112-4036-eb2a-94db1516df51"
      },
      "outputs": [
        {
          "output_type": "execute_result",
          "data": {
            "text/plain": [
              "array([43.541,  0.459])"
            ]
          },
          "metadata": {},
          "execution_count": 8
        }
      ],
      "source": [
        "D1"
      ]
    },
    {
      "cell_type": "markdown",
      "metadata": {
        "id": "VuOJhWnJ6AyC"
      },
      "source": [
        "The square roots of eigenvalues of $A^TA$ are called _singular values_  of $A$, denoted by $\\sigma_1, ..., \\sigma_n$ in decreasing order.\n",
        "\n",
        "We can also show that singular values of $A$ are the lengths of vectors $A\\mathbf{v}_1,..., A\\mathbf{v}_n$, where $\\mathbf{v}_i$ is the eigenvalue of $A^TA$."
      ]
    },
    {
      "cell_type": "markdown",
      "metadata": {
        "id": "XK-R2UVA6AyD"
      },
      "source": [
        "The length of $A\\mathbf{v}_i$ is $\\|A\\mathbf{v}_i\\|$\n",
        "\n",
        "$$\n",
        "\\|A\\mathbf{v}_i\\| = \\sqrt{(A\\mathbf{v}_i)^TA\\mathbf{v}_i} = \\sqrt{\\mathbf{v}_i^TA^T A\\mathbf{v}_i}=\\sqrt{\\mathbf{v}_i^T(\\lambda_i\\mathbf{v}_i)} = \\sqrt{\\lambda_i}=\\sigma_1\n",
        "$$\n",
        "\n",
        "where $\\sqrt{\\mathbf{v}_i^T\\mathbf{v}_i} = 1$ and $\\lambda_i$'s are eigenvalues of $A^TA$."
      ]
    },
    {
      "cell_type": "markdown",
      "metadata": {
        "id": "O_GoC7Oy6AyD"
      },
      "source": [
        " # <font face=\"gotham\" color=\"purple\"> Singular Value Decomposition</font>"
      ]
    },
    {
      "cell_type": "markdown",
      "metadata": {
        "id": "tq0hf3xe6AyD"
      },
      "source": [
        "**Singular Value Decomposition** (SVD) is probably the most important decomposition technique in the history of linear algebra, it combines all the theory we discussed, then culminate at this point."
      ]
    },
    {
      "cell_type": "markdown",
      "metadata": {
        "id": "aMIDptnf6AyD"
      },
      "source": [
        "$A$ is a $m\\times n$ matrix. However $AA^T$ and $A^TA$ are symmetric matrices,then both are orthogonally diagonalizable.\n",
        "\n",
        "$$\n",
        "AA^T = U\\Sigma\\Sigma^T U^T=(U\\Sigma V^T)(V\\Sigma U^T)\\\\\n",
        "A^TA = V\\Sigma^T \\Sigma V^T = (V\\Sigma^T U^T)(U \\Sigma V^T)\n",
        "$$\n",
        "\n",
        "where $\\Sigma\\Sigma^T$ is a diagonal matrix with all eigenvalues of $AA^T$ and $\\Sigma^T \\Sigma$ is a diagonal matrix with all eigenvalues of $VV^T$."
      ]
    },
    {
      "cell_type": "markdown",
      "metadata": {
        "id": "ycycfQ6Q6AyD"
      },
      "source": [
        "Because both $AA^T$ and $A^TA$ are symmetric, then $UU^T= U^TU=I_{m\\times m}$ and $VV^T= V^TV=I_{n\\times n}$."
      ]
    },
    {
      "cell_type": "markdown",
      "metadata": {
        "id": "CkZmBZJS6AyE"
      },
      "source": [
        "We have implicitly shown the singular value decompositions above, one of the most important concept in linear algebra.\n",
        "\n",
        "$$\n",
        "\\Large\n",
        "SVD:\\quad\n",
        "A_{m\\times n} = U_{m\\times m}\\Sigma_{m \\times n} V^T_{n \\times n}\n",
        "$$"
      ]
    },
    {
      "cell_type": "markdown",
      "metadata": {
        "id": "TB36vfl46AyE"
      },
      "source": [
        "The SVD theory guarantees that any matrix $A$, no matter its ranks or shapes, can be unconditionally decomposed into three special matrices."
      ]
    },
    {
      "cell_type": "markdown",
      "metadata": {
        "id": "eRw2NcSS6AyE"
      },
      "source": [
        "So next question: what is $\\Sigma$?\n",
        "\n",
        "It is an $m\\times n$ main diagonal matrix, with all singular values on the main diagonal. Rewrite"
      ]
    },
    {
      "cell_type": "markdown",
      "metadata": {
        "id": "Do7w_uLT6AyE"
      },
      "source": [
        "$$\n",
        "A^TA = V\\Sigma^T \\Sigma V^T = V\\Sigma^2 V^T\n",
        "$$"
      ]
    },
    {
      "cell_type": "markdown",
      "metadata": {
        "id": "weu7muqw6AyE"
      },
      "source": [
        "Post-multiply both sides by $V$\n",
        "\n",
        "$$\n",
        "A^TAV = V\\Sigma^2\n",
        "$$"
      ]
    },
    {
      "cell_type": "markdown",
      "metadata": {
        "id": "STtJ07h76AyF"
      },
      "source": [
        "This is the matrix version of $A\\mathbf{v}_i = \\lambda_i \\mathbf{v}_i$, but here the matrix of interest is $A^TA$ rather than $A$. Similarly it can be written with singular values\n",
        "\n",
        "$$\n",
        "A^TA\\mathbf{v}_i = \\sigma_i^2\\mathbf{v}_i\n",
        "$$"
      ]
    },
    {
      "cell_type": "markdown",
      "metadata": {
        "id": "__TFYVPU6AyF"
      },
      "source": [
        "Because $U$ and $V$ are not unique, we tend to standardize the solution by arranging $\\sigma_1 \\geq \\sigma_2 \\geq \\sigma_3\\geq ... \\geq\\sigma_r$."
      ]
    },
    {
      "cell_type": "markdown",
      "metadata": {
        "id": "_7nUuCXc6AyF"
      },
      "source": [
        "Why we only arrange $r$ singular values? Because it is the rank of $A$, so is the rank of $A^TA$. Explicitly $\\Sigma$ looks like\n",
        "\n",
        "\n",
        "$$\\Sigma =\\left[\\begin{array}{cccccc}\n",
        "\\sqrt{\\lambda_{1}} & & & & &\\\\\n",
        "& \\sqrt{\\lambda_{2}} & & & &\\\\\n",
        "& & \\ddots & & &\\\\\n",
        "& & & \\sqrt{\\lambda}_{\\mathrm{r}} & &\\\\\n",
        "& & & & \\ddots &\\\\\n",
        "& & & & & 0\n",
        "\\end{array}\\right]\n",
        "=\\left[\\begin{array}{cccccc}\n",
        "\\sigma_1 & & & & &\\\\\n",
        "& \\sigma_2 & & & &\\\\\n",
        "& & \\ddots & & &\\\\\n",
        "& & & \\sigma_r & &\\\\\n",
        "& & & & \\ddots &\\\\\n",
        "& & & & & 0\n",
        "\\end{array}\\right]\n",
        "$$"
      ]
    },
    {
      "cell_type": "markdown",
      "metadata": {
        "id": "SxBDf6nu6AyF"
      },
      "source": [
        "We can do the same for $AA^T$ and get\n",
        "\n",
        "$$\n",
        "AA^TU = U \\Sigma^2\n",
        "$$\n",
        "\n",
        "or\n",
        "\n",
        "$$\n",
        "AA^T\\mathbf{u}_i = \\sigma_i^2\\mathbf{u}_i\n",
        "$$"
      ]
    },
    {
      "cell_type": "markdown",
      "metadata": {
        "id": "_DUylM-S6AyF"
      },
      "source": [
        "We have shown why $A_{m\\times n} = U_{m\\times m}\\Sigma_{m \\times n} V^T_{n \\times n}$ holds."
      ]
    },
    {
      "cell_type": "markdown",
      "metadata": {
        "id": "kbkxNim-6AyF"
      },
      "source": [
        "To perfomr a SVD on $A$, we just need two equations and this is also a mannual procedure to decompose any matrix.\n",
        "\n",
        "$$\n",
        "A^TA = V\\Sigma^T \\Sigma V^T\\\\\n",
        "AV = U\\Sigma\n",
        "$$"
      ]
    },
    {
      "cell_type": "markdown",
      "metadata": {
        "id": "1YB8vjWC6AyF"
      },
      "source": [
        "Here's an example, let's say we have we have a data set $A$"
      ]
    },
    {
      "cell_type": "markdown",
      "metadata": {
        "id": "BFDzjdpt6AyG"
      },
      "source": [
        "Give it a $\\text{SVD}$ decomposition"
      ]
    },
    {
      "cell_type": "markdown",
      "metadata": {
        "id": "g8hKOBqI6AyH"
      },
      "source": [
        "Let's say we want to reduce $A_{10\\times 3}$ in to $A_{10\\times 2}$."
      ]
    },
    {
      "cell_type": "markdown",
      "source": [],
      "metadata": {
        "id": "3p6UGWTvRpLh"
      }
    },
    {
      "cell_type": "code",
      "execution_count": null,
      "metadata": {
        "id": "R4ASfWaT6AyH"
      },
      "outputs": [],
      "source": [
        "import numpy as np\n",
        "import matplotlib.pyplot as plt\n",
        "\n",
        "A = np.array([[4, 1],\n",
        "              [1,  0],\n",
        "              [3,  2],\n",
        "              [2,  4],\n",
        "              [-1, 0]])\n",
        "U, S, VT = np.linalg.svd(A)\n",
        "A_reduced = np.dot(U[:, :1], np.dot(np.diag(S[:1]), VT[:1, :]))\n",
        "\n",
        "# Plot original data\n",
        "plt.scatter(A[:, 0], A[:, 1])\n",
        "plt.title(\"Original $A$\")\n",
        "plt.show()\n",
        "\n",
        "# Plot reduced data\n",
        "plt.scatter(A_reduced[:, 0], A_reduced[:, 1])\n",
        "plt.title(\"$A$ with Reduced Dimensionality\")\n",
        "plt.show()"
      ]
    },
    {
      "cell_type": "markdown",
      "source": [
        "![OG A.png](data:image/png;base64,iVBORw0KGgoAAAANSUhEUgAAAoAAAAHgCAYAAAA10dzkAAAAOXRFWHRTb2Z0d2FyZQBNYXRwbG90bGliIHZlcnNpb24zLjkuMiwgaHR0cHM6Ly9tYXRwbG90bGliLm9yZy8hTgPZAAAACXBIWXMAAA9hAAAPYQGoP6dpAAAsDElEQVR4nO3df3BTdb7/8VdaJfVHE35of0CDVMsg3QoIggRQwS0CyzL0j+tVrlpg0Luw4IDs9WoZBcW7FpZhR2bBivij3kXE67rALkoRywLXpSw/SkcKwix7gVZtWhVISpcWJsn3D79kydJioW1Oez7Px8yZMSfnJO9kMuTpyUnqCIfDYQEAAMAYcVYPAAAAgNgiAAEAAAxDAAIAABiGAAQAADAMAQgAAGAYAhAAAMAwBCAAAIBhCEAAAADDEIAAAACGIQABAAAMQwACAAAYhgAEAAAwDAEIAABgGAIQAADAMAQgAACAYQhAAAAAwxCAAAAAhiEAAQAADEMAAgAAGIYABAAAMAwBCAAAYBgCEAAAwDAEIAAAgGEIQAAAAMMQgAAAAIYhAAEAAAxDAAIAABiGAAQAADAMAQgAAGAYAhAAAMAwBCAAAIBhCEAAAADDEIAAAACGIQABAAAMQwACsI3CwkI5HA4dP37ckv3by30AwA8hAAG0CwcPHtSjjz6qHj16yOl0qnv37nrkkUd08OBBq0drF7744gtdc801cjgcOnnypNXjAOjgCEAAlvv973+vgQMHqri4WFOnTtWrr76qadOm6U9/+pMGDhyodevWNet2HnvsMZ09e1a33HLLVc3R0v3bUl5enjwejySpvLzc4mkAdHTXWD0AALP97W9/02OPPaZbb71VO3bs0M033xy5bvbs2brnnnv02GOP6fPPP9ett97a5O3U1dXphhtuUHx8/FXPEh8f36L928rOnTv10UcfacuWLRo1apTKy8t17733Wj0WgA6MI4AALLVkyRL9/e9/1+uvvx4Vf5J00003aeXKlaqrq9OvfvWryPoXXnhBDodDhw4d0r/927+pS5cuGjFiRJPn123btk133XWXEhISdNttt2nlypWR27jYP+9/YZujR49qypQp6ty5s9xut6ZOnaq///3vUfueOHFCP//5z9WnTx9dd9116tatmx588MFWOdfvmWee0ZQpUzRy5Ei53W6OAAJoMY4AArDUH//4R/Xq1Uv33HNPo9ffe++96tWrlz766KNLrnvwwQfVu3dvvfzyywqHw43uv3//fo0dO1apqal68cUXFQwGtXDhwkti83L+9V//Venp6crPz1dpaaneeOMNJSUlafHixZFt9uzZo507d+rhhx9WWlqajh8/roKCAo0cOVKHDh3S9ddf3+z7u9gf/vAH7d27V++9954kqW/fvjpw4MBV3RYAXEAAArCM3+/X119/rYkTJ152u379+ukPf/iDamtrlZiYGFnfv39/rVmzJnK5sLDwkn0XLFig+Ph4/fnPf1b37t0lfR90ffv2bfacd955p958883I5e+++05vvvlmVACOHz9e//Iv/xK134QJE+T1evXhhx/qsccea/b9XRAMBjVv3jz9/Oc/V1pamqTvA3D9+vVXfFsAcDE+AgZgmdraWkmKirrGXLg+EAhErZ8+ffpl9wsGg/r000+Vk5MTiT9JysjI0Lhx45o95z/fzz333KPvvvsuap7rrrsu8t/nz5/Xd999p4yMDHXu3FmlpaXNvq+LvfPOO6qoqFBeXl5kXd++fXXq1Cl99dVXV3WbACARgAAsdCHsLoRgU5oKxfT09MvuV1NTo7NnzyojI+OS6xpb15SePXtGXe7SpYsk6dSpU5F1Z8+e1fz58+XxeOR0OnXTTTfp5ptv1unTp+X3+5t9XxfU19drwYIFevjhh3X69GkdPXpUR48elcvlkiQ+BgbQInwEDMAybrdbqamp+vzzzy+73eeff64ePXpE4ueCi4+6taWmvhl88XmHTz75pN5++23NmTNHXq9XbrdbDodDDz/8sEKh0BXf57Jly/Tll19q1apVWrVq1SXXl5eXa+zYsVd8uwAgEYAALPbTn/5Uq1at0meffaYRI0Zccv3//u//6vjx4/rZz352xbedlJSkhIQEHT169JLrGlvXEr/73e80efJkLV26NLKuvr5ep0+fvuLbOnXqlBYtWqR///d/1+jRoy+5fvLkyXwTGECLEIAALPX0009r9erV+tnPfqYdO3aoW7duketOnjyp6dOn6/rrr9fTTz99xbcdHx+v7OxsrV+/Xl9//XXkPMCjR49q06ZNrfYYLtzXP38T+Te/+Y2CweAV39bLL7+sYDCoxYsXq3Pnzpdc/+KLL/IRMIAWIQABWKp3795655139Mgjj+iOO+7QtGnTlJ6eruPHj+vNN9/Ut99+q/fee0+33XbbVd3+Cy+8oE8++UTDhw/XjBkzFAwGtXz5cmVlZamsrKzVHsdPf/pT/fa3v5Xb7VZmZqZKSkr06aefRgVtc1RWVmr58uWaNWtWo/EnSbfddps++eQThUIhxcVxKjeAK0cAArDcgw8+qNtvv135+fmR6OvWrZtGjRqlefPmKSsr66pve9CgQdq0aZP+4z/+Q88//7w8Ho8WLlyoL774QocPH261x7Bs2TLFx8fr3XffVX19vYYPH65PP/1UY8aMuaLbmT9/vkKhkJ566qkmt7ntttt09uxZ/e1vf1Pv3r1bOjoAAznCTf16KgDYWE5Ojg4ePKi//vWvVo8CADHHZwcAbO/s2bNRl//617/q448/1siRI60ZCAAsxhFAALaXmpqqKVOm6NZbb9WJEydUUFCghoYG7d+/n49QARiJcwAB2N7YsWP13nvvyefzyel0yuv16uWXXyb+ABiLI4AAAACG4RxAAAAAwxCAAAAAhiEAAQAADMOXQFogFArp66+/VmJiohwOh9XjAACAZgiHw6qtrVX37t2N/Ws6BGALfP311/J4PFaPAQAArkJlZaXS0tKsHsMSBGALJCYmSvr+BeRyuSyeBgAANEcgEJDH44m8j5uIAGyBCx/7ulwuAhAAgA7G5NO3zPzgGwAAwGAEIAAAgGEIQAAAAMMQgAAAAIYhAAEAAAxDAAIAABiGAAQAADAMAQgAAGAYfggaAGwgGApr97GTqqmtV1Jigoakd1V8nLk/cgvg8mx5BHDRokVyOByaM2fOZbf74IMPdPvttyshIUF33HGHPv7449gMCACtqKi8SiMWb9WkVbs0e22ZJq3apRGLt6qovMrq0QC0U7YLwD179mjlypXq16/fZbfbuXOnJk2apGnTpmn//v3KyclRTk6OysvLYzQpALRcUXmVZqwuVZW/Pmq9z1+vGatLiUAAjbJVAJ45c0aPPPKIVq1apS5dulx222XLlmns2LF6+umn1bdvX7300ksaOHCgli9fHqNpAaBlgqGwXvzjIYUbue7Cuhf/eEjBUGNbADCZrQJw5syZGj9+vLKzs39w25KSkku2GzNmjEpKSprcp6GhQYFAIGoBAKvsPnbykiN/FwtLqvLXa/exk7EbCkCHYJsvgaxdu1alpaXas2dPs7b3+XxKTk6OWpecnCyfz9fkPvn5+XrxxRdbNCcAtJaa2qbj72q2A2AOWxwBrKys1OzZs/Xuu+8qISGhze4nLy9Pfr8/slRWVrbZfQHAD0lKbN6/d83dDoA5bHEEcN++faqpqdHAgQMj64LBoHbs2KHly5eroaFB8fHxUfukpKSouro6al11dbVSUlKavB+n0ymn09m6wwPAVRqS3lWp7gT5/PWNngfokJTi/v4nYQDgYrY4AvjjH/9YBw4cUFlZWWS566679Mgjj6isrOyS+JMkr9er4uLiqHVbtmyR1+uN1dgA0CLxcQ4tmJAp6fvYu9iFywsmZPJ7gAAuYYsjgImJicrKyopad8MNN6hbt26R9bm5uerRo4fy8/MlSbNnz9Z9992npUuXavz48Vq7dq327t2r119/PebzA8DVGpuVqoJHB+rFPx6K+kJIijtBCyZkamxWqoXTAWivbBGAzVFRUaG4uH8c8Bw2bJjWrFmj5557TvPmzVPv3r21fv36S0ISANq7sVmpGp2Zwl8CAdBsjnA4zA9EXaVAICC32y2/3y+Xy2X1OAAAoBl4/7bJOYAAAABoPgIQAADAMAQgAACAYQhAAAAAwxCAAAAAhiEAAQAADEMAAgAAGIYABAAAMAwBCAAAYBgCEAAAwDAEIAAAgGEIQAAAAMMQgAAAAIYhAAEAAAxDAAIAABiGAAQAADAMAQgAAGAYAhAAAMAwBCAAAIBhCEAAAADDEIAAAACGIQABAAAMQwACAAAYhgAEAAAwDAEIAABgGAIQAADAMAQgAACAYQhAAAAAwxCAAAAAhiEAAQAADEMAAgAAGMYWAVhQUKB+/frJ5XLJ5XLJ6/Vq06ZNTW5fWFgoh8MRtSQkJMRwYgAAAOtcY/UArSEtLU2LFi1S7969FQ6H9c4772jixInav3+/fvSjHzW6j8vl0pEjRyKXHQ5HrMYFAACwlC0CcMKECVGXf/nLX6qgoEC7du1qMgAdDodSUlJiMR4AAEC7YouPgC8WDAa1du1a1dXVyev1NrndmTNndMstt8jj8WjixIk6ePDgD952Q0ODAoFA1AIAANDR2CYADxw4oBtvvFFOp1PTp0/XunXrlJmZ2ei2ffr00VtvvaUNGzZo9erVCoVCGjZsmL788svL3kd+fr7cbndk8Xg8bfFQAAAA2pQjHA6HrR6iNZw7d04VFRXy+/363e9+pzfeeEPbt29vMgIvdv78efXt21eTJk3SSy+91OR2DQ0NamhoiFwOBALyeDzy+/1yuVyt8jgAAEDbCgQCcrvdRr9/2+IcQEnq1KmTMjIyJEmDBg3Snj17tGzZMq1cufIH97322mt155136ujRo5fdzul0yul0tsq8AAAAVrHNR8D/LBQKRR2tu5xgMKgDBw4oNTW1jacCAACwni2OAObl5WncuHHq2bOnamtrtWbNGm3btk2bN2+WJOXm5qpHjx7Kz8+XJC1cuFBDhw5VRkaGTp8+rSVLlujEiRN6/PHHrXwYAAAAMWGLAKypqVFubq6qqqrkdrvVr18/bd68WaNHj5YkVVRUKC7uHwc7T506pSeeeEI+n09dunTRoEGDtHPnzmadLwgAANDR2eZLIFbgJFIAADoe3r9tfA4gAAAAGkcAAgAAGIYABAAAMAwBCAAAYBgCEAAAwDAEIAAAgGEIQAAAAMMQgAAAAIYhAAEAAAxDAAIAABiGAAQAADAMAQgAAGAYAhAAAMAwBCAAAIBhCEAAAADDEIAAAACGIQABAAAMQwACAAAYhgAEAAAwDAEIAABgGAIQAADAMAQgAACAYQhAAAAAwxCAAAAAhiEAAQAADEMAAgAAGIYABAAAMAwBCAAAYBgCEAAAwDAEIAAAgGEIQAAAAMPYIgALCgrUr18/uVwuuVwueb1ebdq06bL7fPDBB7r99tuVkJCgO+64Qx9//HGMpgUAALCWLQIwLS1NixYt0r59+7R3717df//9mjhxog4ePNjo9jt37tSkSZM0bdo07d+/Xzk5OcrJyVF5eXmMJwcAAIg9RzgcDls9RFvo2rWrlixZomnTpl1y3UMPPaS6ujpt3Lgxsm7o0KEaMGCAXnvttWbfRyAQkNvtlt/vl8vlapW5AQBA2+L92yZHAC8WDAa1du1a1dXVyev1NrpNSUmJsrOzo9aNGTNGJSUll73thoYGBQKBqAUAAKCjsU0AHjhwQDfeeKOcTqemT5+udevWKTMzs9FtfT6fkpOTo9YlJyfL5/Nd9j7y8/Pldrsji8fjabX5AQAAYsU2AdinTx+VlZXpL3/5i2bMmKHJkyfr0KFDrXofeXl58vv9kaWysrJVbx8AACAWrrF6gNbSqVMnZWRkSJIGDRqkPXv2aNmyZVq5cuUl26akpKi6ujpqXXV1tVJSUi57H06nU06ns/WGBgAAsIBtjgD+s1AopIaGhkav83q9Ki4ujlq3ZcuWJs8ZBAAAsBNbHAHMy8vTuHHj1LNnT9XW1mrNmjXatm2bNm/eLEnKzc1Vjx49lJ+fL0maPXu27rvvPi1dulTjx4/X2rVrtXfvXr3++utWPgwAAICYsEUA1tTUKDc3V1VVVXK73erXr582b96s0aNHS5IqKioUF/ePg53Dhg3TmjVr9Nxzz2nevHnq3bu31q9fr6ysLKseAgAAQMzY9ncAY4HfEQIAoOPh/dvG5wACAACgcQQgAACAYQhAAAAAwxCAAAAAhiEAAQAADEMAAgAAGIYABAAAMAwBCAAAYBgCEAAAwDAEIAAAgGEIQAAAAMMQgAAAAIYhAAEAAAxDAAIAABiGAAQAADAMAQgAAGAYAhAAAMAwBCAAAIBhCEAAAADDEIAAAACGIQABAAAMQwACAAAYhgAEAAAwDAEIAABgGAIQAADAMAQgAACAYQhAAAAAwxCAAAAAhiEAAQAADEMAAgAAGIYABAAAMIwtAjA/P1+DBw9WYmKikpKSlJOToyNHjlx2n8LCQjkcjqglISEhRhMDAABYxxYBuH37ds2cOVO7du3Sli1bdP78eT3wwAOqq6u77H4ul0tVVVWR5cSJEzGaGAAAwDrXWD1AaygqKoq6XFhYqKSkJO3bt0/33ntvk/s5HA6lpKS09XgAAADtii2OAP4zv98vSeratetltztz5oxuueUWeTweTZw4UQcPHrzs9g0NDQoEAlELAABAR2O7AAyFQpozZ46GDx+urKysJrfr06eP3nrrLW3YsEGrV69WKBTSsGHD9OWXXza5T35+vtxud2TxeDxt8RAAAADalCMcDoetHqI1zZgxQ5s2bdJnn32mtLS0Zu93/vx59e3bV5MmTdJLL73U6DYNDQ1qaGiIXA4EAvJ4PPL7/XK5XC2eHQAAtL1AICC32230+7ctzgG8YNasWdq4caN27NhxRfEnSddee63uvPNOHT16tMltnE6nnE5nS8cEAACwlC0+Ag6Hw5o1a5bWrVunrVu3Kj09/YpvIxgM6sCBA0pNTW2DCQEAANoPWxwBnDlzptasWaMNGzYoMTFRPp9PkuR2u3XddddJknJzc9WjRw/l5+dLkhYuXKihQ4cqIyNDp0+f1pIlS3TixAk9/vjjlj0OAACAWLBFABYUFEiSRo4cGbX+7bff1pQpUyRJFRUViov7xwHPU6dO6YknnpDP51OXLl00aNAg7dy5U5mZmbEaGwAAwBK2+xJILHESKQAAHQ/v3zY5BxAAAADNRwACAAAYhgAEAAAwDAEIAABgGAIQAADAMAQgAACAYQhAAAAAwxCAAAAAhiEAAQAADEMAAgAAGIYABAAAMAwBCAAAYBgCEAAAwDAEIAAAgGEIQAAAAMMQgAAAAIYhAAEAAAxDAAIAABiGAAQAADAMAQgAAGAYAhAAAMAwBCAAAIBhCEAAAADDEIAAAACGIQABAAAMQwACAAAYhgAEAAAwDAEIAABgGAIQAADAMAQgAACAYa6xegAAADqKYCis3cdOqqa2XkmJCRqS3lXxcQ6rxwKumC2OAObn52vw4MFKTExUUlKScnJydOTIkR/c74MPPtDtt9+uhIQE3XHHHfr4449jMC0AoCMqKq/SiMVbNWnVLs1eW6ZJq3ZpxOKtKiqvsno04IrZIgC3b9+umTNnateuXdqyZYvOnz+vBx54QHV1dU3us3PnTk2aNEnTpk3T/v37lZOTo5ycHJWXl8dwcgBAR1BUXqUZq0tV5a+PWu/z12vG6lIiEB2OIxwOh60eorV98803SkpK0vbt23Xvvfc2us1DDz2kuro6bdy4MbJu6NChGjBggF577bVm3U8gEJDb7Zbf75fL5WqV2QEA7UswFNaIxVsvib8LHJJS3An67Jn7+Ti4g+D92yZHAP+Z3++XJHXt2rXJbUpKSpSdnR21bsyYMSopKWlyn4aGBgUCgagFAGBvu4+dbDL+JCksqcpfr93HTsZuKKCFbBeAoVBIc+bM0fDhw5WVldXkdj6fT8nJyVHrkpOT5fP5mtwnPz9fbrc7sng8nlabGwDQPtXUNh1/V7Md0B7YLgBnzpyp8vJyrV27ttVvOy8vT36/P7JUVla2+n0AANqXpMSEVt0OaA9s9TMws2bN0saNG7Vjxw6lpaVddtuUlBRVV1dHrauurlZKSkqT+zidTjmdzlaZFQDQMQxJ76pUd4J8/no1dtL8hXMAh6Q3fdoR0N7Y4ghgOBzWrFmztG7dOm3dulXp6ek/uI/X61VxcXHUui1btsjr9bbVmACADig+zqEFEzIlfR97F7twecGETL4Agg7FFgE4c+ZMrV69WmvWrFFiYqJ8Pp98Pp/Onj0b2SY3N1d5eXmRy7Nnz1ZRUZGWLl2qw4cP64UXXtDevXs1a9YsKx4CAKAdG5uVqoJHByrFHf0xb4o7QQWPDtTYrFSLJgOuji1+BsbhaPz/ut5++21NmTJFkjRy5Ej16tVLhYWFkes/+OADPffcczp+/Lh69+6tX/3qV/rJT37S7Pvla+QAYBb+Eog98P5tkwC0Ci8gAAA6Ht6/bfIRMAAAAJqPAAQAADAMAQgAAGAYAhAAAMAwBCAAAIBhCEAAAADDEIAAAACGIQABAAAMQwACAAAYhgAEAAAwDAEIAABgGAIQAADAMAQgAACAYQhAAAAAwxCAAAAAhiEAAQAADEMAAgAAGIYABAAAMAwBCAAAYBgCEAAAwDAEIAAAgGEIQAAAAMMQgAAAAIYhAAEAAAxDAAIAABiGAAQAADAMAQgAAGAYAhAAAMAwBCAAAIBhCEAAAADDEIAAAACGsU0A7tixQxMmTFD37t3lcDi0fv36y26/bds2ORyOSxafzxebgQEAACximwCsq6tT//79tWLFiiva78iRI6qqqoosSUlJbTQhAABA+3CN1QO0lnHjxmncuHFXvF9SUpI6d+7c+gMBAAC0U7Y5Ani1BgwYoNTUVI0ePVp//vOfL7ttQ0ODAoFA1AIAANDRGBuAqampeu211/Thhx/qww8/lMfj0ciRI1VaWtrkPvn5+XK73ZHF4/HEcGIAAIDW4QiHw2Grh2htDodD69atU05OzhXtd99996lnz5767W9/2+j1DQ0NamhoiFwOBALyeDzy+/1yuVwtGRkAAMRIIBCQ2+02+v3bNucAtoYhQ4bos88+a/J6p9Mpp9MZw4kAAABan7EfATemrKxMqampVo8BAADQpmxzBPDMmTM6evRo5PKxY8dUVlamrl27qmfPnsrLy9NXX32l//7v/5YkvfLKK0pPT9ePfvQj1dfX64033tDWrVv1ySefWPUQAAAAYsI2Abh3716NGjUqcnnu3LmSpMmTJ6uwsFBVVVWqqKiIXH/u3Dn94he/0FdffaXrr79e/fr106effhp1GwAAAHZkyy+BxAonkQIA0PHw/s05gAAAAMYhAAEAAAxDAAIAABiGAAQAADAMAQgAAGAYAhAAAMAwBCAAAIBhCEAAAADDEIAAAACGIQABAAAMQwACAAAYhgAEAAAwDAEIAABgGAIQAADAMAQgAACAYQhAAAAAwxCAAAAAhiEAAQAADEMAAgAAGIYABAAAMAwBCAAAYBgCEAAAwDAEIAAAgGEIQAAAAMMQgAAAAIYhAAEAAAxDAAIAABiGAAQAADAMAQgAAGAYAhAAAMAw11g9AAAAwMWCobB2Hzupmtp6JSUmaEh6V8XHOawey1ZscwRwx44dmjBhgrp37y6Hw6H169f/4D7btm3TwIED5XQ6lZGRocLCwjafEwAANK2ovEojFm/VpFW7NHttmSat2qURi7eqqLzK6tFsxTYBWFdXp/79+2vFihXN2v7YsWMaP368Ro0apbKyMs2ZM0ePP/64Nm/e3MaTAgCAxhSVV2nG6lJV+euj1vv89ZqxupQIbEWOcDgctnqI1uZwOLRu3Trl5OQ0uc0zzzyjjz76SOXl5ZF1Dz/8sE6fPq2ioqJm3U8gEJDb7Zbf75fL5Wrp2AAAGCsYCmvE4q2XxN8FDkkp7gR99sz9Lf44mPdvGx0BvFIlJSXKzs6OWjdmzBiVlJQ0uU9DQ4MCgUDUAgAAWm73sZNNxp8khSVV+eu1+9jJ2A1lY8YGoM/nU3JyctS65ORkBQIBnT17ttF98vPz5Xa7I4vH44nFqAAA2F5NbdPxdzXb4fKMDcCrkZeXJ7/fH1kqKyutHgkAAFtISkxo1e1wecb+DExKSoqqq6uj1lVXV8vlcum6665rdB+n0ymn0xmL8QAAMMqQ9K5KdSfI569XY19OuHAO4JD0rrEezZaMPQLo9XpVXFwctW7Lli3yer0WTQQAgLni4xxaMCFT0vexd7ELlxdMyOT3AFuJbQLwzJkzKisrU1lZmaTvf+alrKxMFRUVkr7/+DY3Nzey/fTp0/V///d/+s///E8dPnxYr776qv7nf/5HTz31lBXjAwBgvLFZqSp4dKBS3NEf86a4E1Tw6ECNzUq1aDL7sc3PwGzbtk2jRo26ZP3kyZNVWFioKVOm6Pjx49q2bVvUPk899ZQOHTqktLQ0Pf/885oyZUqz75OvkQMA0Pra+i+B8P5towC0Ai8gAAA6Ht6/bfQRMAAAAJqHAAQAADAMAQgAAGAYAhAAAMAwBCAAAIBhCEAAAADDEIAAAACGIQABAAAMQwACAAAYhgAEAAAwDAEIAABgGAIQAADAMAQgAACAYQhAAAAAwxCAAAAAhiEAAQAADEMAAgAAGIYABAAAMAwBCAAAYBgCEAAAwDAEIAAAgGEIQAAAAMMQgAAAAIYhAAEAAAxDAAIAABiGAAQAADAMAQgAAGAYAhAAAMAwBCAAAIBhCEAAAADDEIAAAACGsVUArlixQr169VJCQoLuvvtu7d69u8ltCwsL5XA4opaEhIQYTgsAAGAN2wTg+++/r7lz52rBggUqLS1V//79NWbMGNXU1DS5j8vlUlVVVWQ5ceJEDCcGAACwhm0C8Ne//rWeeOIJTZ06VZmZmXrttdd0/fXX66233mpyH4fDoZSUlMiSnJwcw4kBAACsYYsAPHfunPbt26fs7OzIuri4OGVnZ6ukpKTJ/c6cOaNbbrlFHo9HEydO1MGDBy97Pw0NDQoEAlELAABAR2OLAPz2228VDAYvOYKXnJwsn8/X6D59+vTRW2+9pQ0bNmj16tUKhUIaNmyYvvzyyybvJz8/X263O7J4PJ5WfRwAAACxYIsAvBper1e5ubkaMGCA7rvvPv3+97/XzTffrJUrVza5T15envx+f2SprKyM4cQAAACt4xqrB2gNN910k+Lj41VdXR21vrq6WikpKc26jWuvvVZ33nmnjh492uQ2TqdTTqezRbMCAABYzRZHADt16qRBgwapuLg4si4UCqm4uFher7dZtxEMBnXgwAGlpqa21ZgAAADtgi2OAErS3LlzNXnyZN11110aMmSIXnnlFdXV1Wnq1KmSpNzcXPXo0UP5+fmSpIULF2ro0KHKyMjQ6dOntWTJEp04cUKPP/64lQ8DAACgzdkmAB966CF98803mj9/vnw+nwYMGKCioqLIF0MqKioUF/ePA56nTp3SE088IZ/Ppy5dumjQoEHauXOnMjMzrXoIAAAAMeEIh8Nhq4foqAKBgNxut/x+v1wul9XjAACAZuD92ybnAAIAAKD5CEAAAADDEIAAAACGIQABAAAMQwACAAAYhgAEAAAwDAEIAABgGAIQAADAMAQgAACAYQhAAAAAwxCAAAAAhiEAAQAADEMAAgAAGIYABAAAMAwBCAAAYBgCEAAAwDAEIAAAgGEIQAAAAMMQgAAAAIYhAAEAAAxDAAIAABiGAAQAADAMAQgAAGAYAhAAAMAwBCAAAIBhCEAAAADDEIAAAACGIQABAAAMQwACAAAYhgAEAAAwzDVWD4BLBUNh7T52UjW19UpKTNCQ9K6Kj3NYPRZwVXg9A0D7Y6sAXLFihZYsWSKfz6f+/fvrN7/5jYYMGdLk9h988IGef/55HT9+XL1799bixYv1k5/8JIYTX6qovEov/vGQqvz1kXWp7gQtmJCpsVmpFk4GXDlezwDQPtnmI+D3339fc+fO1YIFC1RaWqr+/ftrzJgxqqmpaXT7nTt3atKkSZo2bZr279+vnJwc5eTkqLy8PMaT/0NReZVmrC6NerOUJJ+/XjNWl6qovMqiyYArx+sZANovRzgcDls9RGu4++67NXjwYC1fvlySFAqF5PF49OSTT+rZZ5+9ZPuHHnpIdXV12rhxY2Td0KFDNWDAAL322mvNus9AICC32y2/3y+Xy9Wi+YOhsEYs3nrJm+UFDkkp7gR99sz9fHyGdo/XM4D2rDXfvzsqWxwBPHfunPbt26fs7OzIuri4OGVnZ6ukpKTRfUpKSqK2l6QxY8Y0ub0kNTQ0KBAIRC2tZfexk02+WUpSWFKVv167j51stfsE2gqvZwBo32wRgN9++62CwaCSk5Oj1icnJ8vn8zW6j8/nu6LtJSk/P19utzuyeDyelg///9XUNv1meTXbAVbi9QwA7ZstAjBW8vLy5Pf7I0tlZWWr3XZSYkKrbgdYidczALRvtvgW8E033aT4+HhVV1dHra+urlZKSkqj+6SkpFzR9pLkdDrldDpbPnAjhqR3Vao7QT5/vRo7KfPCOVND0ru2yf0DrYnXMwC0b7Y4AtipUycNGjRIxcXFkXWhUEjFxcXyer2N7uP1eqO2l6QtW7Y0uX1bi49zaMGETEnfvzle7MLlBRMyOWEeHQKvZwBo32wRgJI0d+5crVq1Su+8846++OILzZgxQ3V1dZo6daokKTc3V3l5eZHtZ8+eraKiIi1dulSHDx/WCy+8oL1792rWrFlWPQSNzUpVwaMDleKO/lgsxZ2ggkcH8rtp6FB4PQNA+2WLj4Cl73/W5ZtvvtH8+fPl8/k0YMAAFRUVRb7oUVFRobi4f/TusGHDtGbNGj333HOaN2+eevfurfXr1ysrK8uqhyDp+zfN0Zkp/OUE2AKvZwBon2zzO4BW4HeEAADoeHj/ttFHwAAAAGgeAhAAAMAwBCAAAIBhCEAAAADDEIAAAACGIQABAAAMQwACAAAYhgAEAAAwDAEIAABgGNv8KTgrXPgjKoFAwOJJAABAc1143zb5j6ERgC1QW1srSfJ4PBZPAgAArlRtba3cbrfVY1iCvwXcAqFQSF9//bUSExPlcLTuH7cPBALyeDyqrKw09u8UxgLPc2zwPMcGz3Ns8DzHRls+z+FwWLW1terevbvi4sw8G44jgC0QFxentLS0Nr0Pl8vFPzAxwPMcGzzPscHzHBs8z7HRVs+zqUf+LjAzewEAAAxGAAIAABiGAGynnE6nFixYIKfTafUotsbzHBs8z7HB8xwbPM+xwfPctvgSCAAAgGE4AggAAGAYAhAAAMAwBCAAAIBhCEAAAADDEIAdwC9/+UsNGzZM119/vTp37mz1OLaxYsUK9erVSwkJCbr77ru1e/duq0eynR07dmjChAnq3r27HA6H1q9fb/VItpSfn6/BgwcrMTFRSUlJysnJ0ZEjR6wey3YKCgrUr1+/yA8Te71ebdq0yeqxbG/RokVyOByaM2eO1aPYCgHYAZw7d04PPvigZsyYYfUotvH+++9r7ty5WrBggUpLS9W/f3+NGTNGNTU1Vo9mK3V1derfv79WrFhh9Si2tn37ds2cOVO7du3Sli1bdP78eT3wwAOqq6uzejRbSUtL06JFi7Rv3z7t3btX999/vyZOnKiDBw9aPZpt7dmzRytXrlS/fv2sHsV2+BmYDqSwsFBz5szR6dOnrR6lw7v77rs1ePBgLV++XNL3f9fZ4/HoySef1LPPPmvxdPbkcDi0bt065eTkWD2K7X3zzTdKSkrS9u3bde+991o9jq117dpVS5Ys0bRp06wexXbOnDmjgQMH6tVXX9V//dd/acCAAXrllVesHss2OAII45w7d0779u1TdnZ2ZF1cXJyys7NVUlJi4WRA6/D7/ZK+jxO0jWAwqLVr16qurk5er9fqcWxp5syZGj9+fNS/1Wg911g9ABBr3377rYLBoJKTk6PWJycn6/DhwxZNBbSOUCikOXPmaPjw4crKyrJ6HNs5cOCAvF6v6uvrdeONN2rdunXKzMy0eizbWbt2rUpLS7Vnzx6rR7EtjgBa5Nlnn5XD4bjsQowAuFIzZ85UeXm51q5da/UottSnTx+VlZXpL3/5i2bMmKHJkyfr0KFDVo9lK5WVlZo9e7beffddJSQkWD2ObXEE0CK/+MUvNGXKlMtuc+utt8ZmGMPcdNNNio+PV3V1ddT66upqpaSkWDQV0HKzZs3Sxo0btWPHDqWlpVk9ji116tRJGRkZkqRBgwZpz549WrZsmVauXGnxZPaxb98+1dTUaODAgZF1wWBQO3bs0PLly9XQ0KD4+HgLJ7QHAtAiN998s26++WarxzBSp06dNGjQIBUXF0e+kBAKhVRcXKxZs2ZZOxxwFcLhsJ588kmtW7dO27ZtU3p6utUjGSMUCqmhocHqMWzlxz/+sQ4cOBC1burUqbr99tv1zDPPEH+thADsACoqKnTy5ElVVFQoGAyqrKxMkpSRkaEbb7zR2uE6qLlz52ry5Mm66667NGTIEL3yyiuqq6vT1KlTrR7NVs6cOaOjR49GLh87dkxlZWXq2rWrevbsaeFk9jJz5kytWbNGGzZsUGJionw+nyTJ7Xbruuuus3g6+8jLy9O4cePUs2dP1dbWas2aNdq2bZs2b95s9Wi2kpiYeMn5qzfccIO6devGea2tiADsAObPn6933nkncvnOO++UJP3pT3/SyJEjLZqqY3vooYf0zTffaP78+fL5fBowYICKioou+WIIWmbv3r0aNWpU5PLcuXMlSZMnT1ZhYaFFU9lPQUGBJF3y78Hbb7/9g6eaoPlqamqUm5urqqoqud1u9evXT5s3b9bo0aOtHg24YvwOIAAAgGH4FjAAAIBhCEAAAADDEIAAAACGIQABAAAMQwACAAAYhgAEAAAwDAEIAABgGAIQAADAMAQgAACAYQhAAAAAwxCAAAAAhiEAAQAADEMAAgAAGIYABAAAMAwBCAAAYBgCEAAAwDAEIAAAgGEIQAAAAMMQgAAAAIYhAAEAAAxDAAIAABiGAAQAADAMAQgAAGAYAhAAAMAwBCAAAIBhCEAAAADDEIAAAACGIQABAAAMQwACAAAYhgAEAAAwDAEIAABgmP8HzyDcgExWi2gAAAAASUVORK5CYII=)"
      ],
      "metadata": {
        "id": "kqMfMgPBSU6m"
      }
    },
    {
      "cell_type": "markdown",
      "source": [
        "![RED.png](data:image/png;base64,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)"
      ],
      "metadata": {
        "id": "c6UyW_y_SWsH"
      }
    },
    {
      "cell_type": "code",
      "execution_count": null,
      "metadata": {
        "id": "4_jgzuzK6AyH"
      },
      "outputs": [],
      "source": [
        "import numpy as np\n",
        "import matplotlib.pyplot as plt\n",
        "\n",
        "# Generate some random data\n",
        "data = np.array([[4, 1],\n",
        "              [1,  0],\n",
        "              [3,  2],\n",
        "              [2,  4],\n",
        "              [-1, 0]])\n",
        "\n",
        "# Perform SVD on the data\n",
        "U, s, VT = np.linalg.svd(data)\n",
        "\n",
        "# Perform PCA on the data\n",
        "mean = np.mean(data, axis=0)\n",
        "data_pca = data - mean\n",
        "cov = np.cov(data_pca.T)\n",
        "eigenvalues, eigenvectors = np.linalg.eig(cov)\n",
        "\n",
        "# Plot the data\n",
        "plt.scatter(data[:, 0], data[:, 1])\n",
        "plt.title(\"Original Data\")\n",
        "plt.show()\n",
        "\n",
        "# Plot the SVD components\n",
        "plt.scatter(U[:, 0], U[:, 1])\n",
        "plt.title(\"SVD Components\")\n",
        "plt.show()\n",
        "\n",
        "# Plot the PCA components\n",
        "plt.scatter(eigenvectors[:, 0], eigenvectors[:, 1])\n",
        "plt.title(\"PCA Components\")\n",
        "plt.show()\n"
      ]
    },
    {
      "cell_type": "markdown",
      "source": [
        "![OG.png](data:image/png;base64,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)"
      ],
      "metadata": {
        "id": "AMXvc5FOSEQA"
      }
    },
    {
      "cell_type": "markdown",
      "source": [
        "![SVD.png](data:image/png;base64,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)"
      ],
      "metadata": {
        "id": "a4cqURKRSJmI"
      }
    },
    {
      "cell_type": "markdown",
      "source": [
        "![PCA.png](data:image/png;base64,iVBORw0KGgoAAAANSUhEUgAAAoAAAAHgCAYAAAA10dzkAAAAOXRFWHRTb2Z0d2FyZQBNYXRwbG90bGliIHZlcnNpb24zLjkuMiwgaHR0cHM6Ly9tYXRwbG90bGliLm9yZy8hTgPZAAAACXBIWXMAAA9hAAAPYQGoP6dpAAAygElEQVR4nO3de1jUdaLH8Q+gDN4YvHCPRN0UTdPCYFHbLrKKmnY9oXnLx3Qz7bRSnbRStFKy0jyV5dZj69lW0+615ZKGuR2LE6bVrqaWSaupAxrJKCYo8z1/+DjbLKiowMB836/nmefZ+fK7fH/+dOfdb2Z+BBljjAAAAGCNYH9PAAAAAPWLAAQAALAMAQgAAGAZAhAAAMAyBCAAAIBlCEAAAADLEIAAAACWIQABAAAsQwACAABYhgAEAACwDAEIAABgGQIQAADAMgQgAACAZQhAAAAAyxCAAAAAliEAAQAALEMAAgAAWIYABAAAsAwBCAAAYBkCEAAAwDIEIAAAgGUIQAAAAMsQgAAAAJYhAAEAACxDAAIAAFiGAAQAALAMAQgAAGAZAhAAAMAyBCAAAIBlCEAAAADLEIAAAACWIQABAAAsQwACAABYhgAEAACwDAEIAABgGQIQsNzSpUsVFBTkfYSFhalz586aMmWKioqKqixfVFSke++9V0lJSWrevLlatGih5ORkPfroozp48GC1+0hJSVFQUJCef/75s56f2+3W7Nmz1bNnT7Vs2VLNmjVT9+7ddf/992vv3r1nvT34+vTTTzVr1qxTnjsAgSnIGGP8PQkA/rN06VKNGzdODz/8sDp06KCjR49q/fr1evnll9W+fXtt3rxZzZs3lyRt2LBBgwcP1uHDhzVq1CglJydLkj7//HOtWLFCffr00erVq322/+2336pz585KTExUfHy81q9fX+O57dy5U+np6dq1a5f+4z/+Q/369VNoaKj+/ve/65VXXlGbNm30zTff1N4fhoWefPJJ3XfffSosLFRiYqK/pwOgnjTx9wQANAyDBg1S7969JUm333672rZtqwULFuidd97RiBEjdPDgQd1www0KCQnRF198oaSkJJ/158yZoxdffLHKdv/85z8rKipK8+fP180336zvv/++RqFx/Phx3XjjjSoqKtK6devUr1+/KvubN2/euR8wAFiMt4ABVOuaa66RJBUWFkqS/vCHP2jPnj1asGBBlfiTpOjoaD300ENVxpcvX66bb75Z1157rZxOp5YvX16j/b/xxhv66quv9OCDD1aJP0kKDw/XnDlzfMZee+01JScnq1mzZmrXrp1GjRqlPXv2+Cxz2223qWXLltq1a5euvfZatWzZUvHx8Vq0aJEk6R//+IeuueYatWjRQu3bt68y35NvmX/88cf63e9+p7Zt2yo8PFxjxozRTz/9VGWezz33nC6++GI5HA7FxcVp8uTJVd5uveqqq9S9e3d9/fXXuvrqq9W8eXPFx8fr8ccfr7K98vJyZWdn61e/+pUcDocSEhL0X//1XyovL/dZLigoSFOmTNHbb7+t7t27y+Fw6OKLL1Zubq53mVmzZum+++6TJHXo0MH7MYDvv/9ekrRmzRr169dPERERatmypbp06aIHHnigypwAND4EIIBqfffdd5Kktm3bSpLeffddNWvWTDfffHONt/HZZ59px44dGjFihEJDQ3XjjTdq2bJlNVr33XfflSSNHj26RssvXbpUt9xyi0JCQpSTk6MJEybozTffVL9+/aoEV2VlpQYNGqSEhAQ9/vjjSkxM1JQpU7R06VJlZGSod+/emjdvnlq1aqUxY8Z4I/iXpkyZoq1bt2rWrFkaM2aMli1bpuuvv16//FTNrFmzNHnyZMXFxWn+/Pm66aab9Ic//EEDBgzQsWPHfLb3008/KSMjQz179tT8+fOVlJSk+++/X3/961+9y3g8Hg0bNkxPPvmkhg4dqmeeeUbXX3+9nnrqKWVmZlaZ4/r163XnnXdq+PDhevzxx3X06FHddNNN+vHHHyVJN954o0aMGCFJeuqpp/Tyyy/r5ZdfVmRkpLZs2aJrr71W5eXlevjhhzV//nwNGzZMn3zySY3OB4AGzgCw2h//+EcjyXz44Ydm//79Zvfu3WbFihWmbdu2plmzZuaHH34wxhjTunVr07Nnz7Pa9pQpU0xCQoLxeDzGGGNWr15tJJkvvvjijOteeumlxul01mg/FRUVJioqynTv3t38/PPP3vH33nvPSDIzZ870jo0dO9ZIMnPnzvWO/fTTT6ZZs2YmKCjIrFixwju+bds2I8lkZ2d7x07+eSUnJ5uKigrv+OOPP24kmXfeeccYY0xxcbEJDQ01AwYMMJWVld7lnn32WSPJvPTSS96xK6+80kgyf/rTn7xj5eXlJiYmxtx0003esZdfftkEBweb//3f//U5/sWLFxtJ5pNPPvGOSTKhoaFmx44d3rGvvvrKSDLPPPOMd+yJJ54wkkxhYaHPNp966ikjyezfv98ACDxcAQQgSUpPT1dkZKQSEhI0fPhwtWzZUm+99Zbi4+Mlnfg2bqtWrWq8vePHj2vlypXKzMxUUFCQpBNvK0dFRdXoKuDZ7O/zzz9XcXGx7rzzToWFhXnHhwwZoqSkJL3//vtV1rn99tu9/zsiIkJdunRRixYtdMstt3jHu3TpooiICO3cubPK+hMnTlTTpk29zydNmqQmTZpo1apVkqQPP/xQFRUV+v3vf6/g4H/9X+2ECRMUHh5eZU4tW7bUqFGjvM9DQ0OVkpLis+/XXntNXbt2VVJSkg4cOOB9nHy7/qOPPvLZZnp6ujp16uR9fskllyg8PLza4/l3ERERkqR33nlHHo/njMsDaFwIQACSpEWLFmnNmjX66KOP9PXXX2vnzp0aOHCg9+fh4eE6dOhQjbe3evVq7d+/XykpKdqxY4d27NihwsJCXX311XrllVfOGBVns79//vOfkk4E279LSkry/vyksLAwRUZG+ow5nU5dcMEF3lj95Xh1n+276KKLfJ63bNlSsbGx3s/PnWpOoaGh6tixY5U5Vbfv1q1b++z722+/1ZYtWxQZGenz6Ny5sySpuLjYZ/0LL7ywyrz/fZunkpmZqb59++r2229XdHS0hg8frldffZUYBAIE3wIGIOnEvfpOfgu4OklJSfryyy9VUVGh0NDQM27v5FW+X15R+6W//e1vuvrqq0+7vy+++EK7d+9WQkLCGfd3NkJCQs5q3NTD3bJqsm+Px6MePXpowYIF1S77739O53M8zZo108cff6yPPvpI77//vnJzc7Vy5Updc801Wr169Sm3DaBx4AoggBoZOnSofv75Z73xxhtnXLasrEzvvPOOMjMz9dprr1V5xMbGnvFt4KFDh0o6cRuZM2nfvr0kafv27VV+tn37du/Pa9O3337r8/zw4cPat2+f9xY3p5pTRUWFCgsLz2lOnTp1UklJifr376/09PQqj+qugJ7Jv191/KXg4GD1799fCxYs0Ndff605c+Zo7dq1Vd5qBtD4EIAAauSOO+5QbGys7rnnnmpvvlxcXKxHH31UkvTWW2+prKxMkydP1s0331zlce211+qNN96ocuuSX7r55pvVo0cPzZkzR/n5+VV+fujQIT344IOSpN69eysqKkqLFy/22eZf//pXbd26VUOGDDnfw6/ihRde8Pkm7/PPP6/jx49r0KBBkk58/i40NFRPP/20zxW3JUuWqLS09JzmdMstt2jPnj3V3m/x559/VllZ2Vlvs0WLFpJU5ZvSJSUlVZbt1auXJJ32vAFoHHgLGECNtG7dWm+99ZYGDx6sXr16+fwmkE2bNumVV15RWlqapBNv/7Zt21Z9+vSpdlvDhg3Tiy++qPfff1833nhjtcs0bdpUb775ptLT0/Wb3/xGt9xyi/r27aumTZtqy5YtWr58uVq3bq05c+aoadOmmjdvnsaNG6crr7xSI0aMUFFRkf77v/9biYmJmjp1aq3/eVRUVKh///665ZZbtH37dj333HPq16+fhg0bJkmKjIzU9OnTNXv2bGVkZGjYsGHe5S6//HKfL3zU1OjRo/Xqq6/qjjvu0EcffaS+ffuqsrJS27Zt06uvvqoPPvjgtG/jV+fkOXzwwQc1fPhwNW3aVEOHDtXDDz+sjz/+WEOGDFH79u1VXFys5557ThdccEG192UE0Mj490vIAPzt5G1NNmzYUKPl9+7da6ZOnWo6d+5swsLCTPPmzU1ycrKZM2eOKS0tNUVFRaZJkyZm9OjRp9zGkSNHTPPmzc0NN9xwxv399NNPZubMmaZHjx6mefPmJiwszHTv3t1Mnz7d7Nu3z2fZlStXmksvvdQ4HA7Tpk0bM3LkSO9tbE4aO3asadGiRZX9XHnllebiiy+uMt6+fXszZMgQ7/OTf15/+9vfzMSJE03r1q1Ny5YtzciRI82PP/5YZf1nn33WJCUlmaZNm5ro6GgzadIk89NPP9Vo32PHjjXt27f3GauoqDDz5s0zF198sXE4HKZ169YmOTnZzJ4925SWlnqXk2QmT55c7fGMHTvWZ+yRRx4x8fHxJjg42HtLmLy8PHPdddeZuLg4ExoaauLi4syIESPMN998U2WbABoffhcwAJyFk787ecOGDWd9tQ0AGgo+AwgAAGAZAhAAAMAyBCAAAIBl+AwgAACAZbgCCAAAYBkCEAAAwDIEIAAAgGX4TSDnwePxaO/evWrVqtVpf58mAABoOIwxOnTokOLi4hQcbOe1MALwPOzdu1cJCQn+ngYAADgHu3fv1gUXXODvafgFAXgeWrVqJenEX6Dw8HA/zwYAANSE2+1WQkKC93XcRgTgeTj5tm94eDgBCABAI2Pzx7fsfOMbAADAYgQgAACAZQhAAAAAyxCAAAAAliEAAQAALEMAAgAAWIYABAAAsAwBCAAAYBluBN0AVXqMCgpLVHzoqKJahSmlQxuFBNt7s0oAAFC7CMAGJnfzPs3+y9faV3rUOxbrDFP20G7K6B7rx5kBAIBAwVvADUju5n2a9OdNPvEnSa7So5r0503K3bzPTzMDAACBhABsICo9RrP/8rVMNT87OTb7L1+r0lPdEgAAADUXUAG4aNEiJSYmKiwsTKmpqSooKDjt8gsXLlSXLl3UrFkzJSQkaOrUqTp69Ohp16krBYUlVa78/ZKRtK/0qAoKS+pvUgAAICAFTACuXLlSWVlZys7O1qZNm9SzZ08NHDhQxcXF1S6/fPlyTZs2TdnZ2dq6dauWLFmilStX6oEHHqjnmZ9QfKhm4VnT5QAAAE4lYAJwwYIFmjBhgsaNG6du3bpp8eLFat68uV566aVql//000/Vt29f3XrrrUpMTNSAAQM0YsSIM141rCtRrcJqdTkAAIBTCYgArKio0MaNG5Wenu4dCw4OVnp6uvLz86tdp0+fPtq4caM3+Hbu3KlVq1Zp8ODBp9xPeXm53G63z6O2pHRoo1hnmE51s5cgnfg2cEqHNrW2TwAAYKeACMADBw6osrJS0dHRPuPR0dFyuVzVrnPrrbfq4YcfVr9+/dS0aVN16tRJV1111WnfAs7JyZHT6fQ+EhISau0YQoKDlD20myRVicCTz7OHduN+gAAA4LwFRACei3Xr1mnu3Ll67rnntGnTJr355pt6//339cgjj5xynenTp6u0tNT72L17d63OKaN7rJ4fdZlinL5v88Y4w/T8qMu4DyAAAKgVAXEj6Hbt2ikkJERFRUU+40VFRYqJial2nRkzZmj06NG6/fbbJUk9evRQWVmZJk6cqAcffFDBwVXb2OFwyOFw1P4B/EJG91j9tlsMvwkEAADUmYC4AhgaGqrk5GTl5eV5xzwej/Ly8pSWllbtOkeOHKkSeSEhIZIkY/x7r72Q4CCldWqr63rFK61TW+IPAADUqoC4AihJWVlZGjt2rHr37q2UlBQtXLhQZWVlGjdunCRpzJgxio+PV05OjiRp6NChWrBggS699FKlpqZqx44dmjFjhoYOHeoNQQAAgEAUMAGYmZmp/fv3a+bMmXK5XOrVq5dyc3O9XwzZtWuXzxW/hx56SEFBQXrooYe0Z88eRUZGaujQoZozZ46/DgEAAKBeBBl/v9/ZiLndbjmdTpWWlio8PNzf0wEAADXA63eAfAYQAAAANUcAAgAAWIYABAAAsAwBCAAAYBkCEAAAwDIEIAAAgGUIQAAAAMsQgAAAAJYhAAEAACxDAAIAAFiGAAQAALAMAQgAAGAZAhAAAMAyBCAAAIBlCEAAAADLEIAAAACWIQABAAAsQwACAABYhgAEAACwDAEIAABgGQIQAADAMgQgAACAZQhAAAAAyxCAAAAAliEAAQAALEMAAgAAWIYABAAAsAwBCAAAYBkCEAAAwDIEIAAAgGUIQAAAAMsQgAAAAJYhAAEAACxDAAIAAFiGAAQAALAMAQgAAGAZAhAAAMAyARWAixYtUmJiosLCwpSamqqCgoLTLn/w4EFNnjxZsbGxcjgc6ty5s1atWlVPswUAAPCPJv6eQG1ZuXKlsrKytHjxYqWmpmrhwoUaOHCgtm/frqioqCrLV1RU6Le//a2ioqL0+uuvKz4+Xv/85z8VERFR/5MHAACoR0HGGOPvSdSG1NRUXX755Xr22WclSR6PRwkJCbrrrrs0bdq0KssvXrxYTzzxhLZt26amTZue0z7dbrecTqdKS0sVHh5+XvMHAAD1g9fvAHkLuKKiQhs3blR6erp3LDg4WOnp6crPz692nXfffVdpaWmaPHmyoqOj1b17d82dO1eVlZWn3E95ebncbrfPAwAAoLEJiAA8cOCAKisrFR0d7TMeHR0tl8tV7To7d+7U66+/rsrKSq1atUozZszQ/Pnz9eijj55yPzk5OXI6nd5HQkJCrR4HAABAfQiIADwXHo9HUVFReuGFF5ScnKzMzEw9+OCDWrx48SnXmT59ukpLS72P3bt31+OMAQAAakdAfAmkXbt2CgkJUVFRkc94UVGRYmJiql0nNjZWTZs2VUhIiHesa9eucrlcqqioUGhoaJV1HA6HHA5H7U4eAACgngXEFcDQ0FAlJycrLy/PO+bxeJSXl6e0tLRq1+nbt6927Nghj8fjHfvmm28UGxtbbfwBAAAEioAIQEnKysrSiy++qP/5n//R1q1bNWnSJJWVlWncuHGSpDFjxmj69One5SdNmqSSkhLdfffd+uabb/T+++9r7ty5mjx5sr8OAQAAoF4ExFvAkpSZman9+/dr5syZcrlc6tWrl3Jzc71fDNm1a5eCg//VuwkJCfrggw80depUXXLJJYqPj9fdd9+t+++/31+HAAAAUC8C5j6A/sB9hAAAaHx4/Q6gt4ABAABQMwQgAACAZQhAAAAAyxCAAAAAliEAAQAALEMAAgAAWIYABAAAsAwBCAAAYBkCEAAAwDIEIAAAgGUIQAAAAMsQgAAAAJYhAAEAACxDAAIAAFiGAAQAALAMAQgAAGAZAhAAAMAyBCAAAIBlCEAAAADLEIAAAACWIQABAAAsQwACAABYhgAEAACwDAEIAABgGQIQAADAMgQgAACAZQhAAAAAyxCAAAAAliEAAQAALEMAAgAAWIYABAAAsAwBCAAAYBkCEAAAwDIEIAAAgGUIQAAAAMsQgAAAAJYhAAEAACwTUAG4aNEiJSYmKiwsTKmpqSooKKjReitWrFBQUJCuv/76up0gAABAAxAwAbhy5UplZWUpOztbmzZtUs+ePTVw4EAVFxefdr3vv/9e9957r6644op6mikAAIB/BUwALliwQBMmTNC4cePUrVs3LV68WM2bN9dLL710ynUqKys1cuRIzZ49Wx07dqzH2QIAAPhPQARgRUWFNm7cqPT0dO9YcHCw0tPTlZ+ff8r1Hn74YUVFRWn8+PE12k95ebncbrfPAwAAoLEJiAA8cOCAKisrFR0d7TMeHR0tl8tV7Trr16/XkiVL9OKLL9Z4Pzk5OXI6nd5HQkLCec0bAADAHwIiAM/WoUOHNHr0aL344otq165djdebPn26SktLvY/du3fX4SwBAADqRhN/T6A2tGvXTiEhISoqKvIZLyoqUkxMTJXlv/vuO33//fcaOnSod8zj8UiSmjRpou3bt6tTp05V1nM4HHI4HLU8ewAAgPoVEFcAQ0NDlZycrLy8PO+Yx+NRXl6e0tLSqiyflJSkf/zjH/ryyy+9j2HDhunqq6/Wl19+yVu7AAAgoAXEFUBJysrK0tixY9W7d2+lpKRo4cKFKisr07hx4yRJY8aMUXx8vHJychQWFqbu3bv7rB8RESFJVcYBAAACTcAEYGZmpvbv36+ZM2fK5XKpV69eys3N9X4xZNeuXQoODogLngAAAOclyBhj/D2JxsrtdsvpdKq0tFTh4eH+ng4AAKgBXr8D5DOAAAAAqDkCEAAAwDIEIAAAgGUIQAAAAMsQgAAAAJYhAAEAACxDAAIAAFiGAAQAALAMAQgAAGAZAhAAAMAyBCAAAIBlCEAAAADLEIAAAACWIQABAAAsQwACAABYhgAEAACwDAEIAABgGQIQAADAMgQgAACAZQhAAAAAyxCAAAAAliEAAQAALEMAAgAAWIYABAAAsAwBCAAAYBkCEAAAwDIEIAAAgGUIQAAAAMsQgAAAAJYhAAEAACxDAAIAAFiGAAQAALAMAQgAAGAZAhAAAMAyBCAAAIBlCEAAAADLEIAAAACWCagAXLRokRITExUWFqbU1FQVFBScctkXX3xRV1xxhVq3bq3WrVsrPT39tMsDAAAEioAJwJUrVyorK0vZ2dnatGmTevbsqYEDB6q4uLja5detW6cRI0boo48+Un5+vhISEjRgwADt2bOnnmcOAABQv4KMMcbfk6gNqampuvzyy/Xss89KkjwejxISEnTXXXdp2rRpZ1y/srJSrVu31rPPPqsxY8bUaJ9ut1tOp1OlpaUKDw8/r/kDAID6wet3gFwBrKio0MaNG5Wenu4dCw4OVnp6uvLz82u0jSNHjujYsWNq06ZNXU0TAACgQWji7wnUhgMHDqiyslLR0dE+49HR0dq2bVuNtnH//fcrLi7OJyL/XXl5ucrLy73P3W73uU0YAADAjwLiCuD5euyxx7RixQq99dZbCgsLO+VyOTk5cjqd3kdCQkI9zhIAAKB2BEQAtmvXTiEhISoqKvIZLyoqUkxMzGnXffLJJ/XYY49p9erVuuSSS0677PTp01VaWup97N69+7znDgAAUN8CIgBDQ0OVnJysvLw875jH41FeXp7S0tJOud7jjz+uRx55RLm5uerdu/cZ9+NwOBQeHu7zAAAAaGwC4jOAkpSVlaWxY8eqd+/eSklJ0cKFC1VWVqZx48ZJksaMGaP4+Hjl5ORIkubNm6eZM2dq+fLlSkxMlMvlkiS1bNlSLVu29NtxAAAA1LWACcDMzEzt379fM2fOlMvlUq9evZSbm+v9YsiuXbsUHPyvC57PP/+8KioqdPPNN/tsJzs7W7NmzarPqQMAANSrgLkPoD9wHyEAABofXr8D5DOAAAAAqDkCEAAAwDIEIAAAgGUIQAAAAMsQgAAAAJYhAAEAACxDAAIAAFiGAAQAALAMAQgAAGAZAhAAAMAyBCAAAIBlCEAAAADLEIAAAACWIQABAAAsQwACAABYhgAEAACwDAEIAABgGQIQAADAMgQgAACAZQhAAAAAyxCAAAAAliEAAQAALEMAAgAAWIYABAAAsAwBCAAAYBkCEAAAwDIEIAAAgGUIQAAAAMsQgAAAAJYhAAEAACxDAAIAAFiGAAQAALAMAQgAAGAZAhAAAMAyBCAAAIBlCEAAAADLEIAAAACWCagAXLRokRITExUWFqbU1FQVFBScdvnXXntNSUlJCgsLU48ePbRq1ap6mikAAID/BEwArly5UllZWcrOztamTZvUs2dPDRw4UMXFxdUu/+mnn2rEiBEaP368vvjiC11//fW6/vrrtXnz5nqeOQAAQP0KMsYYf0+iNqSmpuryyy/Xs88+K0nyeDxKSEjQXXfdpWnTplVZPjMzU2VlZXrvvfe8Y7/+9a/Vq1cvLV68uEb7dLvdcjqdKi0tVXh4eO0cCAAAqFO8fgfIFcCKigpt3LhR6enp3rHg4GClp6crPz+/2nXy8/N9lpekgQMHnnJ5AACAQNHE3xOoDQcOHFBlZaWio6N9xqOjo7Vt27Zq13G5XNUu73K5Trmf8vJylZeXe5+73e7zmDUAAIB/BMQVwPqSk5Mjp9PpfSQkJPh7SgAAAGctIAKwXbt2CgkJUVFRkc94UVGRYmJiql0nJibmrJaXpOnTp6u0tNT72L179/lPHgAAoJ4FRACGhoYqOTlZeXl53jGPx6O8vDylpaVVu05aWprP8pK0Zs2aUy4vSQ6HQ+Hh4T4PAACAxiYgPgMoSVlZWRo7dqx69+6tlJQULVy4UGVlZRo3bpwkacyYMYqPj1dOTo4k6e6779aVV16p+fPna8iQIVqxYoU+//xzvfDCC/48DAAAgDoXMAGYmZmp/fv3a+bMmXK5XOrVq5dyc3O9X/TYtWuXgoP/dcGzT58+Wr58uR566CE98MADuuiii/T222+re/fu/joEAACAehEw9wH0B+4jBABA48Prd4B8BhAAAAA1RwACAABYhgAEAACwDAEIAABgGQIQAADAMgQgAACAZQhAAAAAyxCAAAAAliEAAQAALEMAAgAAWIYABAAAsAwBCAAAYBkCEAAAwDIEIAAAgGUIQAAAAMsQgAAAAJYhAAEAACxDAAIAAFiGAAQAALAMAQgAAGAZAhAAAMAyBCAAAIBlCEAAAADLEIAAAACWIQABAAAsQwACAABYhgAEAACwDAEIAABgGQIQAADAMgQgAACAZQhAAAAAyxCAAAAAliEAAQAALEMAAgAAWIYABAAAsAwBCAAAYBkCEAAAwDIBEYAlJSUaOXKkwsPDFRERofHjx+vw4cOnXf6uu+5Sly5d1KxZM1144YX6z//8T5WWltbjrAEAAPwjIAJw5MiR2rJli9asWaP33ntPH3/8sSZOnHjK5ffu3au9e/fqySef1ObNm7V06VLl5uZq/Pjx9ThrAAAA/wgyxhh/T+J8bN26Vd26ddOGDRvUu3dvSVJubq4GDx6sH374QXFxcTXazmuvvaZRo0aprKxMTZo0qdE6brdbTqdTpaWlCg8PP+djAAAA9YfX7wC4Apifn6+IiAhv/ElSenq6goOD9dlnn9V4Oyf/EtQ0/gAAABqrRl87LpdLUVFRPmNNmjRRmzZt5HK5arSNAwcO6JFHHjnt28aSVF5ervLycu9zt9t99hMGAADwswZ7BXDatGkKCgo67WPbtm3nvR+3260hQ4aoW7dumjVr1mmXzcnJkdPp9D4SEhLOe/8AAAD1rcFeAbznnnt02223nXaZjh07KiYmRsXFxT7jx48fV0lJiWJiYk67/qFDh5SRkaFWrVrprbfeUtOmTU+7/PTp05WVleV97na7iUAAANDoNNgAjIyMVGRk5BmXS0tL08GDB7Vx40YlJydLktauXSuPx6PU1NRTrud2uzVw4EA5HA69++67CgsLO+O+HA6HHA5HzQ8CAACgAWqwbwHXVNeuXZWRkaEJEyaooKBAn3zyiaZMmaLhw4d7vwG8Z88eJSUlqaCgQNKJ+BswYIDKysq0ZMkSud1uuVwuuVwuVVZW+vNwAAAA6lyDvQJ4NpYtW6YpU6aof//+Cg4O1k033aSnn37a+/Njx45p+/btOnLkiCRp06ZN3m8I/+pXv/LZVmFhoRITE+tt7gAAAPWt0d8H0J+4jxAAAI0Pr98B8BYwAAAAzg4BCAAAYBkCEAAAwDIEIAAAgGUIQAAAAMsQgAAAAJYhAAEAACxDAAIAAFiGAAQAALAMAQgAAGAZAhAAAMAyBCAAAIBlCEAAAADLEIAAAACWIQABAAAsQwACAABYhgAEAACwDAEIAABgGQIQAADAMgQgAACAZQhAAAAAyxCAAAAAliEAAQAALEMAAgAAWIYABAAAsAwBCAAAYBkCEAAAwDIEIAAAgGUIQAAAAMsQgAAAAJYhAAEAACxDAAIAAFiGAAQAALAMAQgAAGAZAhAAAMAyBCAAAIBlCEAAAADLBEQAlpSUaOTIkQoPD1dERITGjx+vw4cP12hdY4wGDRqkoKAgvf3223U7UQAAgAYgIAJw5MiR2rJli9asWaP33ntPH3/8sSZOnFijdRcuXKigoKA6niEAAEDD0cTfEzhfW7duVW5urjZs2KDevXtLkp555hkNHjxYTz75pOLi4k657pdffqn58+fr888/V2xsbH1NGQAAwK8a/RXA/Px8RUREeONPktLT0xUcHKzPPvvslOsdOXJEt956qxYtWqSYmJj6mCoAAECD0OivALpcLkVFRfmMNWnSRG3atJHL5TrlelOnTlWfPn103XXX1Xhf5eXlKi8v9z53u91nP2EAAAA/a7BXAKdNm6agoKDTPrZt23ZO23733Xe1du1aLVy48KzWy8nJkdPp9D4SEhLOaf8AAAD+1GCvAN5zzz267bbbTrtMx44dFRMTo+LiYp/x48ePq6Sk5JRv7a5du1bfffedIiIifMZvuukmXXHFFVq3bl21602fPl1ZWVne5263mwgEAACNToMNwMjISEVGRp5xubS0NB08eFAbN25UcnKypBOB5/F4lJqaWu0606ZN0+233+4z1qNHDz311FMaOnToKfflcDjkcDjO4igAAAAangYbgDXVtWtXZWRkaMKECVq8eLGOHTumKVOmaPjw4d5vAO/Zs0f9+/fXn/70J6WkpCgmJqbaq4MXXnihOnToUN+HAAAAUK8a7GcAz8ayZcuUlJSk/v37a/DgwerXr59eeOEF78+PHTum7du368iRI36cJQAAQMMQZIwx/p5EY+V2u+V0OlVaWqrw8HB/TwcAANQAr98BcgUQAAAANUcAAgAAWIYABAAAsAwBCAAAYBkCEAAAwDIEIAAAgGUIQAAAAMsQgAAAAJYhAAEAACxDAAIAAFiGAAQAALAMAQgAAGAZAhAAAMAyBCAAAIBlCEAAAADLEIAAAACWIQABAAAsQwACAABYhgAEAACwDAEIAABgGQIQAADAMgQgAACAZQhAAAAAyxCAAAAAliEAAQAALEMAAgAAWIYABAAAsAwBCAAAYBkCEAAAwDIEIAAAgGUIQAAAAMsQgAAAAJYhAAEAACzTxN8TAAAA+KVKj1FBYYmKDx1VVKswpXRoo5DgIH9PK6AQgAAAoMHI3bxPs//ytfaVHvWOxTrDlD20mzK6x/pxZoGFt4ABAECDkLt5nyb9eZNP/EmSq/SoJv15k3I37/PTzAIPAQgAAPyu0mM0+y9fy1Tzs5Njs//ytSo91S2Bs0UAAgAAvysoLKly5e+XjKR9pUdVUFhSf5MKYAERgCUlJRo5cqTCw8MVERGh8ePH6/Dhw2dcLz8/X9dcc41atGih8PBw/eY3v9HPP/9cDzMGAAC/VHzo1PF3Lsvh9AIiAEeOHKktW7ZozZo1eu+99/Txxx9r4sSJp10nPz9fGRkZGjBggAoKCrRhwwZNmTJFwcEB8UcCAECjEtUqrFaXw+kFGWMa9ZvpW7duVbdu3bRhwwb17t1bkpSbm6vBgwfrhx9+UFxcXLXr/frXv9Zvf/tbPfLII+e8b7fbLafTqdLSUoWHh5/zdgAAsF2lx6jfvLVylR6t9nOAQZJinGFaf/81531LGF6/A+AKYH5+viIiIrzxJ0np6ekKDg7WZ599Vu06xcXF+uyzzxQVFaU+ffooOjpaV155pdavX3/afZWXl8vtdvs8AADA+QsJDlL20G6STsTeL518nj20G/cDrCWNPgBdLpeioqJ8xpo0aaI2bdrI5XJVu87OnTslSbNmzdKECROUm5uryy67TP3799e33357yn3l5OTI6XR6HwkJCbV3IAAAWC6je6yeH3WZYpy+b/PGOMP0/KjLuA9gLWqwN4KeNm2a5s2bd9pltm7dek7b9ng8kqTf/e53GjdunCTp0ksvVV5enl566SXl5ORUu9706dOVlZXlfe52u4lAAABqUUb3WP22Wwy/CaSONdgAvOeee3TbbbeddpmOHTsqJiZGxcXFPuPHjx9XSUmJYmJiql0vNvbEf0F069bNZ7xr167atWvXKffncDjkcDhqMHsAAHCuQoKDlNaprb+nEdAabABGRkYqMjLyjMulpaXp4MGD2rhxo5KTkyVJa9eulcfjUWpqarXrJCYmKi4uTtu3b/cZ/+abbzRo0KDznzwAAEAD1ug/A9i1a1dlZGRowoQJKigo0CeffKIpU6Zo+PDh3m8A79mzR0lJSSooKJAkBQUF6b777tPTTz+t119/XTt27NCMGTO0bds2jR8/3p+HAwAAUOca7BXAs7Fs2TJNmTJF/fv3V3BwsG666SY9/fTT3p8fO3ZM27dv15EjR7xjv//973X06FFNnTpVJSUl6tmzp9asWaNOnTr54xAAAADqTaO/D6A/cR8hAAAaH16/A+AtYAAAAJwdAhAAAMAyBCAAAIBlCEAAAADLEIAAAACWCYjbwPjLyS9Qu91uP88EAADU1MnXbZtvhEIAnodDhw5JEr8PGACARujQoUNyOp3+noZfcB/A8+DxeLR37161atVKQUGB8Uuq3W63EhIStHv3bmvvjdSQcD4aDs5Fw8L5aDga47kwxujQoUOKi4tTcLCdn4bjCuB5CA4O1gUXXODvadSJ8PDwRvMP2Qacj4aDc9GwcD4ajsZ2Lmy98neSndkLAABgMQIQAADAMgQgfDgcDmVnZ8vhcPh7KhDnoyHhXDQsnI+Gg3PROPElEAAAAMtwBRAAAMAyBCAAAIBlCEAAAADLEIAAAACWIQAD3KJFi5SYmKiwsDClpqaqoKDgtMsfPHhQkydPVmxsrBwOhzp37qxVq1ad1zbxL7V9PmbNmqWgoCCfR1JSUl0fRsA4m/Nx1VVXVfmzDgoK0pAhQ7zLGGM0c+ZMxcbGqlmzZkpPT9e3335bH4fS6NX2ubjtttuq/DwjI6M+DiUgnO3/Vy1cuFBdunRRs2bNlJCQoKlTp+ro0aPntU3UMYOAtWLFChMaGmpeeukls2XLFjNhwgQTERFhioqKql2+vLzc9O7d2wwePNisX7/eFBYWmnXr1pkvv/zynLeJf6mL85GdnW0uvvhis2/fPu9j//799XVIjdrZno8ff/zR58958+bNJiQkxPzxj3/0LvPYY48Zp9Np3n77bfPVV1+ZYcOGmQ4dOpiff/65no6qcaqLczF27FiTkZHhs1xJSUk9HVHjdrbnY9myZcbhcJhly5aZwsJC88EHH5jY2FgzderUc94m6h4BGMBSUlLM5MmTvc8rKytNXFycycnJqXb5559/3nTs2NFUVFTU2jbxL3VxPrKzs03Pnj1re6pWON+/y0899ZRp1aqVOXz4sDHGGI/HY2JiYswTTzzhXebgwYPG4XCYV155pXYnH2Bq+1wYcyIAr7vuutqeqhXO9nxMnjzZXHPNNT5jWVlZpm/fvue8TdQ93gIOUBUVFdq4caPS09O9Y8HBwUpPT1d+fn6167z77rtKS0vT5MmTFR0dre7du2vu3LmqrKw8523ihLo4Hyd9++23iouLU8eOHTVy5Ejt2rWrTo8lENTG3+UlS5Zo+PDhatGihSSpsLBQLpfLZ5tOp1Opqan8+ziNujgXJ61bt05RUVHq0qWLJk2apB9//LFW5x6IzuV89OnTRxs3bvS+pbtz506tWrVKgwcPPudtou418fcEUDcOHDigyspKRUdH+4xHR0dr27Zt1a6zc+dOrV27ViNHjtSqVau0Y8cO3XnnnTp27Jiys7PPaZs4oS7OhySlpqZq6dKl6tKli/bt26fZs2friiuu0ObNm9WqVas6P67G6nz/LhcUFGjz5s1asmSJd8zlcnm38e/bPPkzVFUX50KSMjIydOONN6pDhw767rvv9MADD2jQoEHKz89XSEhIrR5DIDmX83HrrbfqwIED6tevn4wxOn78uO644w498MAD57xN1D0CEF4ej0dRUVF64YUXFBISouTkZO3Zs0dPPPGENzhQf2pyPgYNGuRd/pJLLlFqaqrat2+vV199VePHj/fX1APekiVL1KNHD6WkpPh7KtY71bkYPny493/36NFDl1xyiTp16qR169apf//+9T3NgLZu3TrNnTtXzz33nFJTU7Vjxw7dfffdeuSRRzRjxgx/Tw+nwFvAAapdu3YKCQlRUVGRz3hRUZFiYmKqXSc2NladO3f2+a/jrl27yuVyqaKi4py2iRPq4nxUJyIiQp07d9aOHTtqb/IB6Hz+LpeVlWnFihVVAvvkevz7ODt1cS6q07FjR7Vr145/G2dwLudjxowZGj16tG6//Xb16NFDN9xwg+bOnaucnBx5PB5eOxooAjBAhYaGKjk5WXl5ed4xj8ejvLw8paWlVbtO3759tWPHDnk8Hu/YN998o9jYWIWGhp7TNnFCXZyP6hw+fFjfffedYmNja/cAAsz5/F1+7bXXVF5erlGjRvmMd+jQQTExMT7bdLvd+uyzz/j3cRp1cS6q88MPP+jHH3/k38YZnMv5OHLkiIKDfXPi5H+4GmN47Wio/P0tFNSdFStWGIfDYZYuXWq+/vprM3HiRBMREWFcLpcxxpjRo0ebadOmeZfftWuXadWqlZkyZYrZvn27ee+990xUVJR59NFHa7xNnFpdnI977rnHrFu3zhQWFppPPvnEpKenm3bt2pni4uJ6P77G5mzPx0n9+vUzmZmZ1W7zscceMxEREeadd94xf//73811113HbWBqoLbPxaFDh8y9995r8vPzTWFhofnwww/NZZddZi666CJz9OjROj+exu5sz0d2drZp1aqVeeWVV8zOnTvN6tWrTadOncwtt9xS422i/hGAAe6ZZ54xF154oQkNDTUpKSnm//7v/7w/u/LKK83YsWN9lv/0009NamqqcTgcpmPHjmbOnDnm+PHjNd4mTq+2z0dmZqaJjY01oaGhJj4+3mRmZpodO3bU1+E0emd7PrZt22YkmdWrV1e7PY/HY2bMmGGio6ONw+Ew/fv3N9u3b6/LQwgYtXkujhw5YgYMGGAiIyNN06ZNTfv27c2ECROIjbNwNufj2LFjZtasWaZTp04mLCzMJCQkmDvvvNP89NNPNd4m6l+QMcb4+yokAAAA6g+fAQQAALAMAQgAAGAZAhAAAMAyBCAAAIBlCEAAAADLEIAAAACWIQABAAAsQwACAABYhgAEAACwDAEIAABgGQIQAADAMgQgAACAZQhAAAAAyxCAAAAAliEAAQAALEMAAgAAWIYABAAAsAwBCAAAYBkCEAAAwDIEIAAAgGUIQAAAAMsQgAAAAJYhAAEAACxDAAIAAFiGAAQAALAMAQgAAGAZAhAAAMAyBCAAAIBlCEAAAADLEIAAAACWIQABAAAs8/9+dgIVT/XEZgAAAABJRU5ErkJggg==)"
      ],
      "metadata": {
        "id": "q7iZWCs9SM_u"
      }
    },
    {
      "cell_type": "markdown",
      "metadata": {
        "tags": [],
        "id": "BXPozsWQ6AyN"
      },
      "source": [
        "## <font face=\"gotham\" color=\"purple\"> Reformulate SVD</font>"
      ]
    },
    {
      "cell_type": "markdown",
      "metadata": {
        "id": "OE-HOXPe6AyN"
      },
      "source": [
        "Rewrite $SVD$\n",
        "\n",
        "$$\n",
        "AV = U\\Sigma\n",
        "$$"
      ]
    },
    {
      "cell_type": "markdown",
      "metadata": {
        "id": "qwPb5rOw6AyN"
      },
      "source": [
        "vector version is\n",
        "\n",
        "$$\n",
        "A\\mathbf{v}_i = \\sigma_i \\mathbf{u}_i\n",
        "$$"
      ]
    },
    {
      "cell_type": "markdown",
      "metadata": {
        "id": "qPDT0xEP6AyN"
      },
      "source": [
        "There two implications from the equation above: $(a)$ $A$ can be decomposed into\n",
        "\n",
        "$$\n",
        "A = \\sum_{i}^r\\sigma_i\\mathbf{u}_i \\mathbf{v}_i^T\n",
        "$$\n",
        "\n",
        "$(b)$ We can compute $\\mathbf{u}_i$ by using\n",
        "\n",
        "$$\\mathbf{u}_i = \\frac{A\\mathbf{v}_i}{\\sigma_i}$$"
      ]
    }
  ],
  "metadata": {
    "kernelspec": {
      "display_name": "Python 3 (ipykernel)",
      "language": "python",
      "name": "python3"
    },
    "language_info": {
      "codemirror_mode": {
        "name": "ipython",
        "version": 3
      },
      "file_extension": ".py",
      "mimetype": "text/x-python",
      "name": "python",
      "nbconvert_exporter": "python",
      "pygments_lexer": "ipython3",
      "version": "3.12.4"
    },
    "toc": {
      "base_numbering": 1,
      "nav_menu": {},
      "number_sections": true,
      "sideBar": true,
      "skip_h1_title": false,
      "title_cell": "Table of Contents",
      "title_sidebar": "Contents",
      "toc_cell": false,
      "toc_position": {},
      "toc_section_display": true,
      "toc_window_display": true
    },
    "colab": {
      "provenance": []
    }
  },
  "nbformat": 4,
  "nbformat_minor": 0
}